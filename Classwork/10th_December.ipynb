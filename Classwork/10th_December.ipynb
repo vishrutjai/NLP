{
  "nbformat": 4,
  "nbformat_minor": 0,
  "metadata": {
    "colab": {
      "name": "10th December.ipynb",
      "provenance": []
    },
    "kernelspec": {
      "name": "python3",
      "display_name": "Python 3"
    }
  },
  "cells": [
    {
      "cell_type": "code",
      "metadata": {
        "id": "HKa1dufX5-Cl",
        "colab_type": "code",
        "colab": {}
      },
      "source": [
        "import pandas as pd\n",
        "import re\n",
        "import nltk\n",
        "nltk.download('punkt')\n",
        "nltk.download('averaged_perceptron_tagger')"
      ],
      "execution_count": 0,
      "outputs": []
    },
    {
      "cell_type": "code",
      "metadata": {
        "id": "h_i5kpAJ6EcS",
        "colab_type": "code",
        "colab": {
          "base_uri": "https://localhost:8080/",
          "height": 289
        },
        "outputId": "1b1669ab-300a-4fe2-c1a6-32742d1d7161"
      },
      "source": [
        "df = pd.read_json('http://snap.stanford.edu/data/amazon/productGraph/categoryFiles/reviews_Office_Products_5.json.gz', lines=True)    \n",
        "df.head()"
      ],
      "execution_count": 26,
      "outputs": [
        {
          "output_type": "execute_result",
          "data": {
            "text/html": [
              "<div>\n",
              "<style scoped>\n",
              "    .dataframe tbody tr th:only-of-type {\n",
              "        vertical-align: middle;\n",
              "    }\n",
              "\n",
              "    .dataframe tbody tr th {\n",
              "        vertical-align: top;\n",
              "    }\n",
              "\n",
              "    .dataframe thead th {\n",
              "        text-align: right;\n",
              "    }\n",
              "</style>\n",
              "<table border=\"1\" class=\"dataframe\">\n",
              "  <thead>\n",
              "    <tr style=\"text-align: right;\">\n",
              "      <th></th>\n",
              "      <th>reviewerID</th>\n",
              "      <th>asin</th>\n",
              "      <th>reviewerName</th>\n",
              "      <th>helpful</th>\n",
              "      <th>reviewText</th>\n",
              "      <th>overall</th>\n",
              "      <th>summary</th>\n",
              "      <th>unixReviewTime</th>\n",
              "      <th>reviewTime</th>\n",
              "    </tr>\n",
              "  </thead>\n",
              "  <tbody>\n",
              "    <tr>\n",
              "      <th>0</th>\n",
              "      <td>A32T2H8150OJLU</td>\n",
              "      <td>B00000JBLH</td>\n",
              "      <td>ARH</td>\n",
              "      <td>[3, 4]</td>\n",
              "      <td>I bought my first HP12C in about 1984 or so, a...</td>\n",
              "      <td>5</td>\n",
              "      <td>A solid performer, and long time friend</td>\n",
              "      <td>1094169600</td>\n",
              "      <td>09 3, 2004</td>\n",
              "    </tr>\n",
              "    <tr>\n",
              "      <th>1</th>\n",
              "      <td>A3MAFS04ZABRGO</td>\n",
              "      <td>B00000JBLH</td>\n",
              "      <td>Let it Be \"Alan\"</td>\n",
              "      <td>[7, 9]</td>\n",
              "      <td>WHY THIS BELATED REVIEW? I feel very obliged t...</td>\n",
              "      <td>5</td>\n",
              "      <td>Price of GOLD is up, so don't bury the golden ...</td>\n",
              "      <td>1197676800</td>\n",
              "      <td>12 15, 2007</td>\n",
              "    </tr>\n",
              "    <tr>\n",
              "      <th>2</th>\n",
              "      <td>A1F1A0QQP2XVH5</td>\n",
              "      <td>B00000JBLH</td>\n",
              "      <td>Mark B</td>\n",
              "      <td>[3, 3]</td>\n",
              "      <td>I have an HP 48GX that has been kicking for mo...</td>\n",
              "      <td>2</td>\n",
              "      <td>Good functionality, but not durable like old HPs</td>\n",
              "      <td>1293840000</td>\n",
              "      <td>01 1, 2011</td>\n",
              "    </tr>\n",
              "    <tr>\n",
              "      <th>3</th>\n",
              "      <td>A49R5DBXXQDE5</td>\n",
              "      <td>B00000JBLH</td>\n",
              "      <td>R. D Johnson</td>\n",
              "      <td>[7, 8]</td>\n",
              "      <td>I've started doing more finance stuff recently...</td>\n",
              "      <td>5</td>\n",
              "      <td>One of the last of an almost extinct species</td>\n",
              "      <td>1145404800</td>\n",
              "      <td>04 19, 2006</td>\n",
              "    </tr>\n",
              "    <tr>\n",
              "      <th>4</th>\n",
              "      <td>A2XRMQA6PJ5ZJ8</td>\n",
              "      <td>B00000JBLH</td>\n",
              "      <td>Roger J. Buffington</td>\n",
              "      <td>[0, 0]</td>\n",
              "      <td>For simple calculations and discounted cash fl...</td>\n",
              "      <td>5</td>\n",
              "      <td>Still the best</td>\n",
              "      <td>1375574400</td>\n",
              "      <td>08 4, 2013</td>\n",
              "    </tr>\n",
              "  </tbody>\n",
              "</table>\n",
              "</div>"
            ],
            "text/plain": [
              "       reviewerID        asin  ... unixReviewTime   reviewTime\n",
              "0  A32T2H8150OJLU  B00000JBLH  ...     1094169600   09 3, 2004\n",
              "1  A3MAFS04ZABRGO  B00000JBLH  ...     1197676800  12 15, 2007\n",
              "2  A1F1A0QQP2XVH5  B00000JBLH  ...     1293840000   01 1, 2011\n",
              "3   A49R5DBXXQDE5  B00000JBLH  ...     1145404800  04 19, 2006\n",
              "4  A2XRMQA6PJ5ZJ8  B00000JBLH  ...     1375574400   08 4, 2013\n",
              "\n",
              "[5 rows x 9 columns]"
            ]
          },
          "metadata": {
            "tags": []
          },
          "execution_count": 26
        }
      ]
    },
    {
      "cell_type": "code",
      "metadata": {
        "id": "N7NM0RvI6N9N",
        "colab_type": "code",
        "colab": {
          "base_uri": "https://localhost:8080/",
          "height": 391
        },
        "outputId": "66fe03be-b241-4940-d138-b85e53ce82c0"
      },
      "source": [
        "from nltk.tokenize import MWETokenizer \n",
        "\n",
        "def mwe(str):\n",
        "    d = {}\n",
        "    tk = MWETokenizer() \n",
        "    d['MWETokenizer'] = tk.tokenize(str.split())\n",
        "    d['word_tokenize'] = word_tokenize(str)\n",
        "    temp = nltk.pos_tag(str.split())\n",
        "    d['pos_tag'] = temp\n",
        "\n",
        "    adj = []\n",
        "    for x in temp:\n",
        "        if x[1] == 'JJ':\n",
        "            adj.append(x[0])\n",
        "    d['adjective'] = adj\n",
        "    \n",
        "    return d\n",
        "\n",
        "#print(mwe('geeks for geeks g f g'))\n",
        "df['nltk']=df['reviewText'].apply(mwe)\n",
        "df.head()"
      ],
      "execution_count": 27,
      "outputs": [
        {
          "output_type": "execute_result",
          "data": {
            "text/html": [
              "<div>\n",
              "<style scoped>\n",
              "    .dataframe tbody tr th:only-of-type {\n",
              "        vertical-align: middle;\n",
              "    }\n",
              "\n",
              "    .dataframe tbody tr th {\n",
              "        vertical-align: top;\n",
              "    }\n",
              "\n",
              "    .dataframe thead th {\n",
              "        text-align: right;\n",
              "    }\n",
              "</style>\n",
              "<table border=\"1\" class=\"dataframe\">\n",
              "  <thead>\n",
              "    <tr style=\"text-align: right;\">\n",
              "      <th></th>\n",
              "      <th>reviewerID</th>\n",
              "      <th>asin</th>\n",
              "      <th>reviewerName</th>\n",
              "      <th>helpful</th>\n",
              "      <th>reviewText</th>\n",
              "      <th>overall</th>\n",
              "      <th>summary</th>\n",
              "      <th>unixReviewTime</th>\n",
              "      <th>reviewTime</th>\n",
              "      <th>nltk</th>\n",
              "    </tr>\n",
              "  </thead>\n",
              "  <tbody>\n",
              "    <tr>\n",
              "      <th>0</th>\n",
              "      <td>A32T2H8150OJLU</td>\n",
              "      <td>B00000JBLH</td>\n",
              "      <td>ARH</td>\n",
              "      <td>[3, 4]</td>\n",
              "      <td>I bought my first HP12C in about 1984 or so, a...</td>\n",
              "      <td>5</td>\n",
              "      <td>A solid performer, and long time friend</td>\n",
              "      <td>1094169600</td>\n",
              "      <td>09 3, 2004</td>\n",
              "      <td>{'MWETokenizer': ['I', 'bought', 'my', 'first'...</td>\n",
              "    </tr>\n",
              "    <tr>\n",
              "      <th>1</th>\n",
              "      <td>A3MAFS04ZABRGO</td>\n",
              "      <td>B00000JBLH</td>\n",
              "      <td>Let it Be \"Alan\"</td>\n",
              "      <td>[7, 9]</td>\n",
              "      <td>WHY THIS BELATED REVIEW? I feel very obliged t...</td>\n",
              "      <td>5</td>\n",
              "      <td>Price of GOLD is up, so don't bury the golden ...</td>\n",
              "      <td>1197676800</td>\n",
              "      <td>12 15, 2007</td>\n",
              "      <td>{'MWETokenizer': ['WHY', 'THIS', 'BELATED', 'R...</td>\n",
              "    </tr>\n",
              "    <tr>\n",
              "      <th>2</th>\n",
              "      <td>A1F1A0QQP2XVH5</td>\n",
              "      <td>B00000JBLH</td>\n",
              "      <td>Mark B</td>\n",
              "      <td>[3, 3]</td>\n",
              "      <td>I have an HP 48GX that has been kicking for mo...</td>\n",
              "      <td>2</td>\n",
              "      <td>Good functionality, but not durable like old HPs</td>\n",
              "      <td>1293840000</td>\n",
              "      <td>01 1, 2011</td>\n",
              "      <td>{'MWETokenizer': ['I', 'have', 'an', 'HP', '48...</td>\n",
              "    </tr>\n",
              "    <tr>\n",
              "      <th>3</th>\n",
              "      <td>A49R5DBXXQDE5</td>\n",
              "      <td>B00000JBLH</td>\n",
              "      <td>R. D Johnson</td>\n",
              "      <td>[7, 8]</td>\n",
              "      <td>I've started doing more finance stuff recently...</td>\n",
              "      <td>5</td>\n",
              "      <td>One of the last of an almost extinct species</td>\n",
              "      <td>1145404800</td>\n",
              "      <td>04 19, 2006</td>\n",
              "      <td>{'MWETokenizer': ['I've', 'started', 'doing', ...</td>\n",
              "    </tr>\n",
              "    <tr>\n",
              "      <th>4</th>\n",
              "      <td>A2XRMQA6PJ5ZJ8</td>\n",
              "      <td>B00000JBLH</td>\n",
              "      <td>Roger J. Buffington</td>\n",
              "      <td>[0, 0]</td>\n",
              "      <td>For simple calculations and discounted cash fl...</td>\n",
              "      <td>5</td>\n",
              "      <td>Still the best</td>\n",
              "      <td>1375574400</td>\n",
              "      <td>08 4, 2013</td>\n",
              "      <td>{'MWETokenizer': ['For', 'simple', 'calculatio...</td>\n",
              "    </tr>\n",
              "  </tbody>\n",
              "</table>\n",
              "</div>"
            ],
            "text/plain": [
              "       reviewerID  ...                                               nltk\n",
              "0  A32T2H8150OJLU  ...  {'MWETokenizer': ['I', 'bought', 'my', 'first'...\n",
              "1  A3MAFS04ZABRGO  ...  {'MWETokenizer': ['WHY', 'THIS', 'BELATED', 'R...\n",
              "2  A1F1A0QQP2XVH5  ...  {'MWETokenizer': ['I', 'have', 'an', 'HP', '48...\n",
              "3   A49R5DBXXQDE5  ...  {'MWETokenizer': ['I've', 'started', 'doing', ...\n",
              "4  A2XRMQA6PJ5ZJ8  ...  {'MWETokenizer': ['For', 'simple', 'calculatio...\n",
              "\n",
              "[5 rows x 10 columns]"
            ]
          },
          "metadata": {
            "tags": []
          },
          "execution_count": 27
        }
      ]
    },
    {
      "cell_type": "code",
      "metadata": {
        "id": "jbZAHWepADEz",
        "colab_type": "code",
        "colab": {
          "base_uri": "https://localhost:8080/",
          "height": 54
        },
        "outputId": "202ee8f2-dc8b-492b-f813-f527c5d3bf76"
      },
      "source": [
        "print(df.iloc[1, 9])"
      ],
      "execution_count": 33,
      "outputs": [
        {
          "output_type": "stream",
          "text": [
            "{'MWETokenizer': ['WHY', 'THIS', 'BELATED', 'REVIEW?', 'I', 'feel', 'very', 'obliged', 'to', 'share', 'my', 'views', 'about', 'this', 'old', 'workhorse,', 'the', 'HP12C', 'GOLD', 'at', 'its', '25th', 'anniversary', 'and', 'my', '1Oth', 'year', 'as', 'a', 'satisfied', 'ower', 'user', 'and', 'fan.', 'Especially', 'after', 'sharing', 'my', 'frank', 'views', 'on', 'Amazon', 'about', 'two', 'of', 'its', 'three', 'successors', 'on', 'Amazon.com,', 'burying', 'the', 'HP12c', 'Platinum', '(2004', '1st', 'release,', 'HP12cP)', 'and', 'praising', 'the', 'HP12c', 'Platiunum', 'Anniversary', 'Edition', '(2006', '3rd', 'release,', 'HP12cPAE', 'or', 'HP12cPA).To', 'the', 'majority', 'of', 'HP', '12c', 'calculator', 'owners', 'and', 'fans,', 'including', 'the', 'non-techkie', 'nerd', 'like', 'myself,', 'the', 'name', 'Hewlett-Packard', 'To', 'the', 'majority', 'of', 'HP', '12c', 'calculator', 'owners', 'and', 'fans.', 'The', 'brandname', 'of', 'Hewlett-Packard', 'is', 'synonymous', 'with', 'the', 'highest', 'quality', 'and', 'best', 'range', 'offered', 'in', 'handheld', 'electronic', 'business', 'financial', 'calculators', 'before', 'the', 'first', 'generation', 'of', 'personal', 'computers', 'hits', 'the', 'desktops', 'of', 'business', 'users.To', 'date', '(December', '2007),', 'the', 'bearer', 'of', 'this', '\"gold\"', 'standard', 'is', 'none', 'other', 'than', 'the', 'HP12C', \"HP's\", '\"golden', 'boy\"', 'in', 'its', 'calculator', 'business', 'segment.The', 'HP12C', 'now', 'a', 'matured', 'product,', 'is', 'the', 'only', 'continuing', 'HP', 'handheld', 'surviving', 'calculator', 'product', 'since', \"'81\", 'and', 'probably', 'the', 'longest', 'selling', 'electronic', 'calculator', 'ever.', 'According', 'to', 'HP', 'almost', '15', 'million', 'HP', '12Cs,', 'cPs', 'was', 'sold', 'since', ',it', 'is', 'probably', 'the', 'best', 'selling', 'HP', '(and', 'RPN)', 'calculator', 'ever.As', 'a', 'proven', 'product,', 'the', 'HP12C', '\"gold\"', 'works', 'from', 'day', '1,', 'with', 'its', 'form', 'factor', 'and', 'sofware', 'remaining', 'unchanged', 'and', 'has', 'not', 'been', 'dethroned', 'by', 'rivals', 'and', 'even', 'its', 'HP', 'successors', 'which', 'had', 'come', 'and', 'go.Even', 'with', 'PC', 'software', 'versions', 'being', 'sold,', 'the', '12C', 'remains', 'the', 'truly', 'indispensable', '\"portable\"', 'finance-business', 'heldheld', 'computer', 'for', 'its', 'owners,', 'professionals', 'and', 'students', 'alike.', 'This', 'handy', 'companion', 'powers', 'up', 'immediately', 'and', 'is', 'faster', 'than', 'any', 'portable', 'personal', 'computers', 'to', 'jump', 'right', 'into', 'the', 'action.The', 'HP12C', 'is', 'a', 'serious', 'product', 'and', 'the', 'ultimate', 'time', 'tested', 'solution,', 'field', 'tested', 'proven', 'by', 'its', 'users', 'and', 'survived', 'all', 'its', 'rival', 'products,', 'the', 'workhorse', 'moves', 'on.Anyone', 'in', 'charge', 'of', 'this', 'HP', 'line', 'should', 'always', 'bear', 'in', 'mind', 'that', 'the', 'continued', 'production', 'run', 'of', 'the', 'HP', '12c', 'is', 'a', 'testimony', 'of', \"HP's\", 'quality', 'and', 'standard', 'expected', 'by', 'its', \"customers.Don't\", 'just', 'listen', 'to', 'a', 'HP12C', 'fan', 'here,', 'I', 'own', 'and', 'am', 'using', 'three', 'out', 'of', '4', 'models', 'of', 'the', 'HP', '12C', 'series,', 'and', 'it', 'is', 'amusing', 'and', 'somewhat', 'disappointing', 'to', 'observe', 'that', 'it', 'had', 'taken', 'HP', 'at', 'least', 'four', 'years', 'and', 'two', 'major', 'upgrades', 'of', 'the', 'HP', '12c', 'Platinium,', 'in', 'its', 'futile', 'attempt', 'to', '\"fix', '&', 'retire\"', 'the', 'HP12C', 'with', 'three', 'successors', 'in', 'the', 'form', 'of', 'HP12cPlatinum', 'since', '2004.It', 'would', 'seems', 'especially', 'frustrating', 'on', 'the', 'part', 'of', 'HP,', 'to', 'realize', 'after', 'all', 'the', 'effort', 'spent', 'on', 'remaking', 'the', 'HP12cPlatinum', 'models', 'that', 'it', 'would', 'not', 'outdone', 'its', 'siblings', 'the', 'HP10bII', 'and', 'HP17bII+', 'series', 'to', 'seriously', 'challenge', 'the', 'HP12C', 'Gold.', 'However,', 'by', 'their', 'own', 'rights', 'the', 'HP10Bs', 'and', 'HP17Bs,', 'and', 'the', 'HP12cPlatinum', 'may', 'find', 'their', 'rightful', 'place', 'in', 'the', 'HP', 'financial', 'calculator', 'line,', 'differentiating', 'the', 'HP12C', 'GOLD', 'in', 'terms', 'of', 'price', 'and', 'functions.IMHO,', 'this', 'had', 'happened', 'because', 'the', 'following', 'golden', 'rules', 'were', 'infringed', 'by', 'HP...GOLDEN', 'RULE', 'I', '-', 'A', 'PRODUCT', 'WHICH', 'STILL', 'SELLS', 'ITSELF', 'IS', 'NEVER', 'OBSOLETE.GOLDEN', 'RULE', 'II', '-', 'IF', 'IT', \"AREN'T\", 'BROKEN,', \"DON't\", 'FIX', 'IT', '!', '\"The', 'gold', 'rule', 'of', 'thumb', 'should', 'always', 'be', 'guarded', 'as', 'gospel', 'by', 'the', 'HP', 'heldheld', 'calculator', 'product', 'team.', 'Based', 'on', 'the', 'same', 'reasoning,', 'the', \"HP12C's\", 'built', 'quality', 'and', 'product', 'standard', 'is', 'paramount', 'to', 'its', 'users.GOLDEN', 'RULE', 'III', '-', 'ALWAYS', 'LISTEN', 'TO', 'YOUR', 'CUSTOMERS!', 'If', 'in', 'doubt,', 'see', 'rules', 'I', '&', 'II.GOLDEN', 'RULE', 'IV', '-', 'ONLY', 'OUTSOURCE', 'THE', 'MANUFACTURING', 'OF', 'YOUR', 'PRODUCT', 'TO', 'SOMEONE', 'WHO', 'COULD', 'BETTER', 'YOUR', 'OWN', 'PRODUCT', 'QUALITY.', 'If', 'in', 'doubt', 'ask', 'IBM', 'about', 'Lenovo.GOLDEN', 'RULE', 'V', '-', 'THE', 'BENCHMARKING', 'INDUSTRY', 'STANDARD', 'FOR', 'THIS', 'PRODUCT', 'LINE', 'IS', 'THE', 'HP12C.', 'Just', 'in', 'case,', 'if', 'HP', 'does', 'not', 'know', 'or', 'is', 'not', 'listening', 'to', 'its', 'customers.GOLDEN', 'RULE', 'VI', '-', 'DO', 'NOT', 'DISCONTINUE', 'THE', 'ICONIC', 'HP12C', 'GOLD.', 'HP', 'needs', 'no', 'reminder', 'that', 'the', 'customer', 'is', 'always', 'right.', 'Please', 'let', 'your', 'customer,', 'the', 'ultimate', 'market', 'force', 'decide', 'if', 'the', 'HP12C', 'should', 'ever', 'be', 'retired.As', 'an', 'ardent', 'fan', 'of', 'HP12C', 'and', 'line', 'of', 'financial', 'business', '&', 'scientific', 'calculators,', 'I', 'am', 'of', 'the', 'view', 'that', 'the', 'day', 'when', 'HP', 'discontinue', 'the', 'HP12C', 'would', 'be', 'the', 'day', 'it', 'exit', 'this', 'business', 'segment.', 'I', 'speculate', 'this', 'would', 'happen', 'when', 'the', 'HP', 'brandname', 'disappears', 'from', 'the', '12C', 'just', 'like', 'after', 'IBM', 'name', 'had', 'disappeared', 'from', 'ThinkPads', 'and', 'ThinkCentres.Since', 'the', 'price', 'of', 'GOLD', 'is', 'on', 'the', 'rise,', 'it', 'is', 'indeed', 'puzzling', 'to', 'fans', 'of', 'the', 'HP12C,', 'why', 'HP', 'did', 'not', 'release', 'a', 'genuine', 'HP12C', 'gold', '25th', 'anniversary', 'model', 'for', 'the', 'fans', 'to', 'mark', 'the', 'occasion,', 'if', 'replacing', 'the', 'discontinuing', 'the', 'HP12C', 'GOLD', 'is', 'the', 'intention', 'READ', 'ALL', 'GOLDEN', 'RULES', 'above.To', 'be', 'fair,', 'the', 'silver', 'HP12c', 'Platinum', 'Anniversary', 'is', 'very', 'nice', 'and', 'has', 'spotted', 'the', '\"retro\"', 'silver', 'look', 'of', 'the', 'HP', '11C,', 'however,', 'it', 'is', 'still', 'not', 'the', 'GOLD', 'standard.', 'With', 'HP', 'missing', 'this', 'golden', 'opportunity', 'to', 'mark', 'the', 'occasion,', 'I', 'would', 'love', 'to', 'see', 'and', 'own', 'a', 'HP', '12C', 'engraved', 'with', '50th', 'Anniversary', 'logo,', 'reckon', 'that', 'this', 'would', 'be', 'the', 'ultimate', 'testimony', 'for', 'the', 'HP12C', 'and', 'a', 'milestone', 'for', 'its', 'fans.Looking', 'forward,', 'a', 'GOLD', '50th', 'anniversary', 'HP12C', 'Anniversary', 'model', 'would', 'be', 'very', 'nice', 'for', 'the', 'fans.For', 'HP,', 'this', 'is', 'a', 'lucrative', 'business', 'proposition.', 'By', 'now,', 'they', 'would', 'have', 'realized', 'that', 'if', 'they', 'have', 'any', 'of', 'its', 'products', 'which', 'could', 'hit', 'a', '50th', 'year', 'home', 'run', 'in', '2031,', 'it', 'would', 'not', 'be', 'from', 'its', 'other', 'product', 'line-it', 'would', 'be', 'this', 'original', 'HP12C', 'GOLD', 'standard', 'bearer.', 'So', 'please', 'treat', 'the', 'old', 'workhorse', 'with', 'the', 'upmost', 'respect!'], 'word_tokenize': ['WHY', 'THIS', 'BELATED', 'REVIEW', '?', 'I', 'feel', 'very', 'obliged', 'to', 'share', 'my', 'views', 'about', 'this', 'old', 'workhorse', ',', 'the', 'HP12C', 'GOLD', 'at', 'its', '25th', 'anniversary', 'and', 'my', '1Oth', 'year', 'as', 'a', 'satisfied', 'ower', 'user', 'and', 'fan', '.', 'Especially', 'after', 'sharing', 'my', 'frank', 'views', 'on', 'Amazon', 'about', 'two', 'of', 'its', 'three', 'successors', 'on', 'Amazon.com', ',', 'burying', 'the', 'HP12c', 'Platinum', '(', '2004', '1st', 'release', ',', 'HP12cP', ')', 'and', 'praising', 'the', 'HP12c', 'Platiunum', 'Anniversary', 'Edition', '(', '2006', '3rd', 'release', ',', 'HP12cPAE', 'or', 'HP12cPA', ')', '.To', 'the', 'majority', 'of', 'HP', '12c', 'calculator', 'owners', 'and', 'fans', ',', 'including', 'the', 'non-techkie', 'nerd', 'like', 'myself', ',', 'the', 'name', 'Hewlett-Packard', 'To', 'the', 'majority', 'of', 'HP', '12c', 'calculator', 'owners', 'and', 'fans', '.', 'The', 'brandname', 'of', 'Hewlett-Packard', 'is', 'synonymous', 'with', 'the', 'highest', 'quality', 'and', 'best', 'range', 'offered', 'in', 'handheld', 'electronic', 'business', 'financial', 'calculators', 'before', 'the', 'first', 'generation', 'of', 'personal', 'computers', 'hits', 'the', 'desktops', 'of', 'business', 'users.To', 'date', '(', 'December', '2007', ')', ',', 'the', 'bearer', 'of', 'this', '``', 'gold', \"''\", 'standard', 'is', 'none', 'other', 'than', 'the', 'HP12C', 'HP', \"'s\", '``', 'golden', 'boy', \"''\", 'in', 'its', 'calculator', 'business', 'segment.The', 'HP12C', 'now', 'a', 'matured', 'product', ',', 'is', 'the', 'only', 'continuing', 'HP', 'handheld', 'surviving', 'calculator', 'product', 'since', \"'81\", 'and', 'probably', 'the', 'longest', 'selling', 'electronic', 'calculator', 'ever', '.', 'According', 'to', 'HP', 'almost', '15', 'million', 'HP', '12Cs', ',', 'cPs', 'was', 'sold', 'since', ',', 'it', 'is', 'probably', 'the', 'best', 'selling', 'HP', '(', 'and', 'RPN', ')', 'calculator', 'ever.As', 'a', 'proven', 'product', ',', 'the', 'HP12C', '``', 'gold', \"''\", 'works', 'from', 'day', '1', ',', 'with', 'its', 'form', 'factor', 'and', 'sofware', 'remaining', 'unchanged', 'and', 'has', 'not', 'been', 'dethroned', 'by', 'rivals', 'and', 'even', 'its', 'HP', 'successors', 'which', 'had', 'come', 'and', 'go.Even', 'with', 'PC', 'software', 'versions', 'being', 'sold', ',', 'the', '12C', 'remains', 'the', 'truly', 'indispensable', '``', 'portable', \"''\", 'finance-business', 'heldheld', 'computer', 'for', 'its', 'owners', ',', 'professionals', 'and', 'students', 'alike', '.', 'This', 'handy', 'companion', 'powers', 'up', 'immediately', 'and', 'is', 'faster', 'than', 'any', 'portable', 'personal', 'computers', 'to', 'jump', 'right', 'into', 'the', 'action.The', 'HP12C', 'is', 'a', 'serious', 'product', 'and', 'the', 'ultimate', 'time', 'tested', 'solution', ',', 'field', 'tested', 'proven', 'by', 'its', 'users', 'and', 'survived', 'all', 'its', 'rival', 'products', ',', 'the', 'workhorse', 'moves', 'on.Anyone', 'in', 'charge', 'of', 'this', 'HP', 'line', 'should', 'always', 'bear', 'in', 'mind', 'that', 'the', 'continued', 'production', 'run', 'of', 'the', 'HP', '12c', 'is', 'a', 'testimony', 'of', 'HP', \"'s\", 'quality', 'and', 'standard', 'expected', 'by', 'its', 'customers.Do', \"n't\", 'just', 'listen', 'to', 'a', 'HP12C', 'fan', 'here', ',', 'I', 'own', 'and', 'am', 'using', 'three', 'out', 'of', '4', 'models', 'of', 'the', 'HP', '12C', 'series', ',', 'and', 'it', 'is', 'amusing', 'and', 'somewhat', 'disappointing', 'to', 'observe', 'that', 'it', 'had', 'taken', 'HP', 'at', 'least', 'four', 'years', 'and', 'two', 'major', 'upgrades', 'of', 'the', 'HP', '12c', 'Platinium', ',', 'in', 'its', 'futile', 'attempt', 'to', '``', 'fix', '&', 'retire', \"''\", 'the', 'HP12C', 'with', 'three', 'successors', 'in', 'the', 'form', 'of', 'HP12cPlatinum', 'since', '2004.It', 'would', 'seems', 'especially', 'frustrating', 'on', 'the', 'part', 'of', 'HP', ',', 'to', 'realize', 'after', 'all', 'the', 'effort', 'spent', 'on', 'remaking', 'the', 'HP12cPlatinum', 'models', 'that', 'it', 'would', 'not', 'outdone', 'its', 'siblings', 'the', 'HP10bII', 'and', 'HP17bII+', 'series', 'to', 'seriously', 'challenge', 'the', 'HP12C', 'Gold', '.', 'However', ',', 'by', 'their', 'own', 'rights', 'the', 'HP10Bs', 'and', 'HP17Bs', ',', 'and', 'the', 'HP12cPlatinum', 'may', 'find', 'their', 'rightful', 'place', 'in', 'the', 'HP', 'financial', 'calculator', 'line', ',', 'differentiating', 'the', 'HP12C', 'GOLD', 'in', 'terms', 'of', 'price', 'and', 'functions.IMHO', ',', 'this', 'had', 'happened', 'because', 'the', 'following', 'golden', 'rules', 'were', 'infringed', 'by', 'HP', '...', 'GOLDEN', 'RULE', 'I', '-', 'A', 'PRODUCT', 'WHICH', 'STILL', 'SELLS', 'ITSELF', 'IS', 'NEVER', 'OBSOLETE.GOLDEN', 'RULE', 'II', '-', 'IF', 'IT', 'ARE', \"N'T\", 'BROKEN', ',', \"DON't\", 'FIX', 'IT', '!', '``', 'The', 'gold', 'rule', 'of', 'thumb', 'should', 'always', 'be', 'guarded', 'as', 'gospel', 'by', 'the', 'HP', 'heldheld', 'calculator', 'product', 'team', '.', 'Based', 'on', 'the', 'same', 'reasoning', ',', 'the', 'HP12C', \"'s\", 'built', 'quality', 'and', 'product', 'standard', 'is', 'paramount', 'to', 'its', 'users.GOLDEN', 'RULE', 'III', '-', 'ALWAYS', 'LISTEN', 'TO', 'YOUR', 'CUSTOMERS', '!', 'If', 'in', 'doubt', ',', 'see', 'rules', 'I', '&', 'II.GOLDEN', 'RULE', 'IV', '-', 'ONLY', 'OUTSOURCE', 'THE', 'MANUFACTURING', 'OF', 'YOUR', 'PRODUCT', 'TO', 'SOMEONE', 'WHO', 'COULD', 'BETTER', 'YOUR', 'OWN', 'PRODUCT', 'QUALITY', '.', 'If', 'in', 'doubt', 'ask', 'IBM', 'about', 'Lenovo.GOLDEN', 'RULE', 'V', '-', 'THE', 'BENCHMARKING', 'INDUSTRY', 'STANDARD', 'FOR', 'THIS', 'PRODUCT', 'LINE', 'IS', 'THE', 'HP12C', '.', 'Just', 'in', 'case', ',', 'if', 'HP', 'does', 'not', 'know', 'or', 'is', 'not', 'listening', 'to', 'its', 'customers.GOLDEN', 'RULE', 'VI', '-', 'DO', 'NOT', 'DISCONTINUE', 'THE', 'ICONIC', 'HP12C', 'GOLD', '.', 'HP', 'needs', 'no', 'reminder', 'that', 'the', 'customer', 'is', 'always', 'right', '.', 'Please', 'let', 'your', 'customer', ',', 'the', 'ultimate', 'market', 'force', 'decide', 'if', 'the', 'HP12C', 'should', 'ever', 'be', 'retired.As', 'an', 'ardent', 'fan', 'of', 'HP12C', 'and', 'line', 'of', 'financial', 'business', '&', 'scientific', 'calculators', ',', 'I', 'am', 'of', 'the', 'view', 'that', 'the', 'day', 'when', 'HP', 'discontinue', 'the', 'HP12C', 'would', 'be', 'the', 'day', 'it', 'exit', 'this', 'business', 'segment', '.', 'I', 'speculate', 'this', 'would', 'happen', 'when', 'the', 'HP', 'brandname', 'disappears', 'from', 'the', '12C', 'just', 'like', 'after', 'IBM', 'name', 'had', 'disappeared', 'from', 'ThinkPads', 'and', 'ThinkCentres.Since', 'the', 'price', 'of', 'GOLD', 'is', 'on', 'the', 'rise', ',', 'it', 'is', 'indeed', 'puzzling', 'to', 'fans', 'of', 'the', 'HP12C', ',', 'why', 'HP', 'did', 'not', 'release', 'a', 'genuine', 'HP12C', 'gold', '25th', 'anniversary', 'model', 'for', 'the', 'fans', 'to', 'mark', 'the', 'occasion', ',', 'if', 'replacing', 'the', 'discontinuing', 'the', 'HP12C', 'GOLD', 'is', 'the', 'intention', 'READ', 'ALL', 'GOLDEN', 'RULES', 'above.To', 'be', 'fair', ',', 'the', 'silver', 'HP12c', 'Platinum', 'Anniversary', 'is', 'very', 'nice', 'and', 'has', 'spotted', 'the', '``', 'retro', \"''\", 'silver', 'look', 'of', 'the', 'HP', '11C', ',', 'however', ',', 'it', 'is', 'still', 'not', 'the', 'GOLD', 'standard', '.', 'With', 'HP', 'missing', 'this', 'golden', 'opportunity', 'to', 'mark', 'the', 'occasion', ',', 'I', 'would', 'love', 'to', 'see', 'and', 'own', 'a', 'HP', '12C', 'engraved', 'with', '50th', 'Anniversary', 'logo', ',', 'reckon', 'that', 'this', 'would', 'be', 'the', 'ultimate', 'testimony', 'for', 'the', 'HP12C', 'and', 'a', 'milestone', 'for', 'its', 'fans.Looking', 'forward', ',', 'a', 'GOLD', '50th', 'anniversary', 'HP12C', 'Anniversary', 'model', 'would', 'be', 'very', 'nice', 'for', 'the', 'fans.For', 'HP', ',', 'this', 'is', 'a', 'lucrative', 'business', 'proposition', '.', 'By', 'now', ',', 'they', 'would', 'have', 'realized', 'that', 'if', 'they', 'have', 'any', 'of', 'its', 'products', 'which', 'could', 'hit', 'a', '50th', 'year', 'home', 'run', 'in', '2031', ',', 'it', 'would', 'not', 'be', 'from', 'its', 'other', 'product', 'line-it', 'would', 'be', 'this', 'original', 'HP12C', 'GOLD', 'standard', 'bearer', '.', 'So', 'please', 'treat', 'the', 'old', 'workhorse', 'with', 'the', 'upmost', 'respect', '!'], 'pos_tag': [('WHY', 'WRB'), ('THIS', 'NNP'), ('BELATED', 'NNP'), ('REVIEW?', 'NNP'), ('I', 'PRP'), ('feel', 'VBP'), ('very', 'RB'), ('obliged', 'VBN'), ('to', 'TO'), ('share', 'NN'), ('my', 'PRP$'), ('views', 'NNS'), ('about', 'IN'), ('this', 'DT'), ('old', 'JJ'), ('workhorse,', 'VBZ'), ('the', 'DT'), ('HP12C', 'NNP'), ('GOLD', 'NNP'), ('at', 'IN'), ('its', 'PRP$'), ('25th', 'CD'), ('anniversary', 'NN'), ('and', 'CC'), ('my', 'PRP$'), ('1Oth', 'CD'), ('year', 'NN'), ('as', 'IN'), ('a', 'DT'), ('satisfied', 'JJ'), ('ower', 'JJR'), ('user', 'NN'), ('and', 'CC'), ('fan.', 'NN'), ('Especially', 'RB'), ('after', 'IN'), ('sharing', 'VBG'), ('my', 'PRP$'), ('frank', 'JJ'), ('views', 'NNS'), ('on', 'IN'), ('Amazon', 'NNP'), ('about', 'IN'), ('two', 'CD'), ('of', 'IN'), ('its', 'PRP$'), ('three', 'CD'), ('successors', 'NNS'), ('on', 'IN'), ('Amazon.com,', 'NNP'), ('burying', 'VBG'), ('the', 'DT'), ('HP12c', 'NNP'), ('Platinum', 'NNP'), ('(2004', 'VBD'), ('1st', 'CD'), ('release,', 'NN'), ('HP12cP)', 'NNP'), ('and', 'CC'), ('praising', 'VBG'), ('the', 'DT'), ('HP12c', 'NNP'), ('Platiunum', 'NNP'), ('Anniversary', 'NNP'), ('Edition', 'NNP'), ('(2006', 'VBD'), ('3rd', 'CD'), ('release,', 'NN'), ('HP12cPAE', 'NNP'), ('or', 'CC'), ('HP12cPA).To', 'NNP'), ('the', 'DT'), ('majority', 'NN'), ('of', 'IN'), ('HP', 'NNP'), ('12c', 'CD'), ('calculator', 'NN'), ('owners', 'NNS'), ('and', 'CC'), ('fans,', 'NN'), ('including', 'VBG'), ('the', 'DT'), ('non-techkie', 'JJ'), ('nerd', 'NN'), ('like', 'IN'), ('myself,', 'VBZ'), ('the', 'DT'), ('name', 'NN'), ('Hewlett-Packard', 'NNP'), ('To', 'TO'), ('the', 'DT'), ('majority', 'NN'), ('of', 'IN'), ('HP', 'NNP'), ('12c', 'CD'), ('calculator', 'NN'), ('owners', 'NNS'), ('and', 'CC'), ('fans.', 'VB'), ('The', 'DT'), ('brandname', 'NN'), ('of', 'IN'), ('Hewlett-Packard', 'NNP'), ('is', 'VBZ'), ('synonymous', 'JJ'), ('with', 'IN'), ('the', 'DT'), ('highest', 'JJS'), ('quality', 'NN'), ('and', 'CC'), ('best', 'JJS'), ('range', 'NN'), ('offered', 'VBN'), ('in', 'IN'), ('handheld', 'JJ'), ('electronic', 'JJ'), ('business', 'NN'), ('financial', 'JJ'), ('calculators', 'NNS'), ('before', 'IN'), ('the', 'DT'), ('first', 'JJ'), ('generation', 'NN'), ('of', 'IN'), ('personal', 'JJ'), ('computers', 'NNS'), ('hits', 'VBZ'), ('the', 'DT'), ('desktops', 'NNS'), ('of', 'IN'), ('business', 'NN'), ('users.To', 'JJ'), ('date', 'NN'), ('(December', 'NNP'), ('2007),', 'CD'), ('the', 'DT'), ('bearer', 'NN'), ('of', 'IN'), ('this', 'DT'), ('\"gold\"', 'JJ'), ('standard', 'NN'), ('is', 'VBZ'), ('none', 'RB'), ('other', 'JJ'), ('than', 'IN'), ('the', 'DT'), ('HP12C', 'NNP'), (\"HP's\", 'NNP'), ('\"golden', 'NNP'), ('boy\"', 'NN'), ('in', 'IN'), ('its', 'PRP$'), ('calculator', 'NN'), ('business', 'NN'), ('segment.The', 'VBD'), ('HP12C', 'NNP'), ('now', 'RB'), ('a', 'DT'), ('matured', 'JJ'), ('product,', 'NN'), ('is', 'VBZ'), ('the', 'DT'), ('only', 'JJ'), ('continuing', 'VBG'), ('HP', 'NNP'), ('handheld', 'VBD'), ('surviving', 'VBG'), ('calculator', 'NN'), ('product', 'NN'), ('since', 'IN'), (\"'81\", 'CD'), ('and', 'CC'), ('probably', 'RB'), ('the', 'DT'), ('longest', 'JJS'), ('selling', 'NN'), ('electronic', 'JJ'), ('calculator', 'NN'), ('ever.', 'VBD'), ('According', 'VBG'), ('to', 'TO'), ('HP', 'NNP'), ('almost', 'RB'), ('15', 'CD'), ('million', 'CD'), ('HP', 'NNP'), ('12Cs,', 'CD'), ('cPs', 'NN'), ('was', 'VBD'), ('sold', 'VBN'), ('since', 'IN'), (',it', 'NN'), ('is', 'VBZ'), ('probably', 'RB'), ('the', 'DT'), ('best', 'JJS'), ('selling', 'NN'), ('HP', 'NNP'), ('(and', 'NNP'), ('RPN)', 'NNP'), ('calculator', 'NN'), ('ever.As', 'VBD'), ('a', 'DT'), ('proven', 'JJ'), ('product,', 'NN'), ('the', 'DT'), ('HP12C', 'NNP'), ('\"gold\"', 'NNP'), ('works', 'NNS'), ('from', 'IN'), ('day', 'NN'), ('1,', 'CD'), ('with', 'IN'), ('its', 'PRP$'), ('form', 'NN'), ('factor', 'NN'), ('and', 'CC'), ('sofware', 'NN'), ('remaining', 'VBG'), ('unchanged', 'JJ'), ('and', 'CC'), ('has', 'VBZ'), ('not', 'RB'), ('been', 'VBN'), ('dethroned', 'VBN'), ('by', 'IN'), ('rivals', 'NNS'), ('and', 'CC'), ('even', 'RB'), ('its', 'PRP$'), ('HP', 'NNP'), ('successors', 'NNS'), ('which', 'WDT'), ('had', 'VBD'), ('come', 'VBN'), ('and', 'CC'), ('go.Even', 'VBN'), ('with', 'IN'), ('PC', 'NN'), ('software', 'NN'), ('versions', 'NNS'), ('being', 'VBG'), ('sold,', 'VBD'), ('the', 'DT'), ('12C', 'CD'), ('remains', 'VBZ'), ('the', 'DT'), ('truly', 'RB'), ('indispensable', 'JJ'), ('\"portable\"', 'JJ'), ('finance-business', 'JJ'), ('heldheld', 'NN'), ('computer', 'NN'), ('for', 'IN'), ('its', 'PRP$'), ('owners,', 'NN'), ('professionals', 'NNS'), ('and', 'CC'), ('students', 'NNS'), ('alike.', 'VBP'), ('This', 'DT'), ('handy', 'JJ'), ('companion', 'NN'), ('powers', 'NNS'), ('up', 'RP'), ('immediately', 'RB'), ('and', 'CC'), ('is', 'VBZ'), ('faster', 'RBR'), ('than', 'IN'), ('any', 'DT'), ('portable', 'JJ'), ('personal', 'JJ'), ('computers', 'NNS'), ('to', 'TO'), ('jump', 'VB'), ('right', 'RB'), ('into', 'IN'), ('the', 'DT'), ('action.The', 'NN'), ('HP12C', 'NNP'), ('is', 'VBZ'), ('a', 'DT'), ('serious', 'JJ'), ('product', 'NN'), ('and', 'CC'), ('the', 'DT'), ('ultimate', 'JJ'), ('time', 'NN'), ('tested', 'VBN'), ('solution,', 'JJ'), ('field', 'NN'), ('tested', 'VBD'), ('proven', 'RB'), ('by', 'IN'), ('its', 'PRP$'), ('users', 'NNS'), ('and', 'CC'), ('survived', 'VBD'), ('all', 'DT'), ('its', 'PRP$'), ('rival', 'NN'), ('products,', 'IN'), ('the', 'DT'), ('workhorse', 'NN'), ('moves', 'VBZ'), ('on.Anyone', 'RB'), ('in', 'IN'), ('charge', 'NN'), ('of', 'IN'), ('this', 'DT'), ('HP', 'NNP'), ('line', 'NN'), ('should', 'MD'), ('always', 'RB'), ('bear', 'VB'), ('in', 'IN'), ('mind', 'NN'), ('that', 'IN'), ('the', 'DT'), ('continued', 'JJ'), ('production', 'NN'), ('run', 'NN'), ('of', 'IN'), ('the', 'DT'), ('HP', 'NNP'), ('12c', 'CD'), ('is', 'VBZ'), ('a', 'DT'), ('testimony', 'NN'), ('of', 'IN'), (\"HP's\", 'NNP'), ('quality', 'NN'), ('and', 'CC'), ('standard', 'NN'), ('expected', 'VBN'), ('by', 'IN'), ('its', 'PRP$'), (\"customers.Don't\", 'NN'), ('just', 'RB'), ('listen', 'VBN'), ('to', 'TO'), ('a', 'DT'), ('HP12C', 'NNP'), ('fan', 'NN'), ('here,', 'NN'), ('I', 'PRP'), ('own', 'VBP'), ('and', 'CC'), ('am', 'VBP'), ('using', 'VBG'), ('three', 'CD'), ('out', 'IN'), ('of', 'IN'), ('4', 'CD'), ('models', 'NNS'), ('of', 'IN'), ('the', 'DT'), ('HP', 'NNP'), ('12C', 'CD'), ('series,', 'NN'), ('and', 'CC'), ('it', 'PRP'), ('is', 'VBZ'), ('amusing', 'VBG'), ('and', 'CC'), ('somewhat', 'RB'), ('disappointing', 'JJ'), ('to', 'TO'), ('observe', 'VB'), ('that', 'IN'), ('it', 'PRP'), ('had', 'VBD'), ('taken', 'VBN'), ('HP', 'NNP'), ('at', 'IN'), ('least', 'JJS'), ('four', 'CD'), ('years', 'NNS'), ('and', 'CC'), ('two', 'CD'), ('major', 'JJ'), ('upgrades', 'NNS'), ('of', 'IN'), ('the', 'DT'), ('HP', 'NNP'), ('12c', 'CD'), ('Platinium,', 'NNP'), ('in', 'IN'), ('its', 'PRP$'), ('futile', 'JJ'), ('attempt', 'NN'), ('to', 'TO'), ('\"fix', 'NNP'), ('&', 'CC'), ('retire\"', 'VB'), ('the', 'DT'), ('HP12C', 'NNP'), ('with', 'IN'), ('three', 'CD'), ('successors', 'NNS'), ('in', 'IN'), ('the', 'DT'), ('form', 'NN'), ('of', 'IN'), ('HP12cPlatinum', 'NNP'), ('since', 'IN'), ('2004.It', 'CD'), ('would', 'MD'), ('seems', 'VBZ'), ('especially', 'RB'), ('frustrating', 'VBG'), ('on', 'IN'), ('the', 'DT'), ('part', 'NN'), ('of', 'IN'), ('HP,', 'NNP'), ('to', 'TO'), ('realize', 'VB'), ('after', 'IN'), ('all', 'PDT'), ('the', 'DT'), ('effort', 'NN'), ('spent', 'VBN'), ('on', 'IN'), ('remaking', 'VBG'), ('the', 'DT'), ('HP12cPlatinum', 'NNP'), ('models', 'NNS'), ('that', 'IN'), ('it', 'PRP'), ('would', 'MD'), ('not', 'RB'), ('outdone', 'VB'), ('its', 'PRP$'), ('siblings', 'NNS'), ('the', 'DT'), ('HP10bII', 'NNP'), ('and', 'CC'), ('HP17bII+', 'NNP'), ('series', 'NN'), ('to', 'TO'), ('seriously', 'RB'), ('challenge', 'VB'), ('the', 'DT'), ('HP12C', 'NNP'), ('Gold.', 'NNP'), ('However,', 'NNP'), ('by', 'IN'), ('their', 'PRP$'), ('own', 'JJ'), ('rights', 'NNS'), ('the', 'DT'), ('HP10Bs', 'NNP'), ('and', 'CC'), ('HP17Bs,', 'NNP'), ('and', 'CC'), ('the', 'DT'), ('HP12cPlatinum', 'NNP'), ('may', 'MD'), ('find', 'VB'), ('their', 'PRP$'), ('rightful', 'JJ'), ('place', 'NN'), ('in', 'IN'), ('the', 'DT'), ('HP', 'NNP'), ('financial', 'JJ'), ('calculator', 'NN'), ('line,', 'NN'), ('differentiating', 'VBG'), ('the', 'DT'), ('HP12C', 'NNP'), ('GOLD', 'NNP'), ('in', 'IN'), ('terms', 'NNS'), ('of', 'IN'), ('price', 'NN'), ('and', 'CC'), ('functions.IMHO,', 'VB'), ('this', 'DT'), ('had', 'VBD'), ('happened', 'VBN'), ('because', 'IN'), ('the', 'DT'), ('following', 'JJ'), ('golden', 'JJ'), ('rules', 'NNS'), ('were', 'VBD'), ('infringed', 'VBN'), ('by', 'IN'), ('HP...GOLDEN', 'NNP'), ('RULE', 'NNP'), ('I', 'PRP'), ('-', ':'), ('A', 'DT'), ('PRODUCT', 'NNP'), ('WHICH', 'NNP'), ('STILL', 'NNP'), ('SELLS', 'NNP'), ('ITSELF', 'NNP'), ('IS', 'NNP'), ('NEVER', 'NNP'), ('OBSOLETE.GOLDEN', 'NNP'), ('RULE', 'NNP'), ('II', 'NNP'), ('-', ':'), ('IF', 'VBZ'), ('IT', 'NNP'), (\"AREN'T\", 'NNP'), ('BROKEN,', 'NNP'), (\"DON't\", 'NNP'), ('FIX', 'NNP'), ('IT', 'NNP'), ('!', '.'), ('\"The', 'NNP'), ('gold', 'NN'), ('rule', 'NN'), ('of', 'IN'), ('thumb', 'NN'), ('should', 'MD'), ('always', 'RB'), ('be', 'VB'), ('guarded', 'VBN'), ('as', 'IN'), ('gospel', 'NN'), ('by', 'IN'), ('the', 'DT'), ('HP', 'NNP'), ('heldheld', 'NN'), ('calculator', 'NN'), ('product', 'NN'), ('team.', 'NN'), ('Based', 'VBN'), ('on', 'IN'), ('the', 'DT'), ('same', 'JJ'), ('reasoning,', 'VBZ'), ('the', 'DT'), (\"HP12C's\", 'NNP'), ('built', 'VBN'), ('quality', 'NN'), ('and', 'CC'), ('product', 'NN'), ('standard', 'NN'), ('is', 'VBZ'), ('paramount', 'JJ'), ('to', 'TO'), ('its', 'PRP$'), ('users.GOLDEN', 'JJ'), ('RULE', 'NNP'), ('III', 'NNP'), ('-', ':'), ('ALWAYS', 'NNP'), ('LISTEN', 'NNP'), ('TO', 'NNP'), ('YOUR', 'NNP'), ('CUSTOMERS!', 'NNP'), ('If', 'IN'), ('in', 'IN'), ('doubt,', 'NN'), ('see', 'VBP'), ('rules', 'NNS'), ('I', 'PRP'), ('&', 'CC'), ('II.GOLDEN', 'NNP'), ('RULE', 'NNP'), ('IV', 'NNP'), ('-', ':'), ('ONLY', 'NNP'), ('OUTSOURCE', 'NNP'), ('THE', 'NNP'), ('MANUFACTURING', 'NNP'), ('OF', 'IN'), ('YOUR', 'NNP'), ('PRODUCT', 'NNP'), ('TO', 'NNP'), ('SOMEONE', 'NNP'), ('WHO', 'NNP'), ('COULD', 'NNP'), ('BETTER', 'NNP'), ('YOUR', 'NNP'), ('OWN', 'NNP'), ('PRODUCT', 'NNP'), ('QUALITY.', 'NNP'), ('If', 'IN'), ('in', 'IN'), ('doubt', 'NN'), ('ask', 'NN'), ('IBM', 'NNP'), ('about', 'IN'), ('Lenovo.GOLDEN', 'NNP'), ('RULE', 'NNP'), ('V', 'NNP'), ('-', ':'), ('THE', 'DT'), ('BENCHMARKING', 'NNP'), ('INDUSTRY', 'NNP'), ('STANDARD', 'NNP'), ('FOR', 'NNP'), ('THIS', 'NNP'), ('PRODUCT', 'NNP'), ('LINE', 'NNP'), ('IS', 'VBZ'), ('THE', 'NNP'), ('HP12C.', 'NNP'), ('Just', 'NNP'), ('in', 'IN'), ('case,', 'NN'), ('if', 'IN'), ('HP', 'NNP'), ('does', 'VBZ'), ('not', 'RB'), ('know', 'VB'), ('or', 'CC'), ('is', 'VBZ'), ('not', 'RB'), ('listening', 'VBG'), ('to', 'TO'), ('its', 'PRP$'), ('customers.GOLDEN', 'NN'), ('RULE', 'NNP'), ('VI', 'NNP'), ('-', ':'), ('DO', 'NNP'), ('NOT', 'NNP'), ('DISCONTINUE', 'NNP'), ('THE', 'NNP'), ('ICONIC', 'NNP'), ('HP12C', 'NNP'), ('GOLD.', 'NNP'), ('HP', 'NNP'), ('needs', 'VBZ'), ('no', 'DT'), ('reminder', 'NN'), ('that', 'IN'), ('the', 'DT'), ('customer', 'NN'), ('is', 'VBZ'), ('always', 'RB'), ('right.', 'JJ'), ('Please', 'NNP'), ('let', 'VB'), ('your', 'PRP$'), ('customer,', 'VB'), ('the', 'DT'), ('ultimate', 'JJ'), ('market', 'NN'), ('force', 'NN'), ('decide', 'VB'), ('if', 'IN'), ('the', 'DT'), ('HP12C', 'NNP'), ('should', 'MD'), ('ever', 'RB'), ('be', 'VB'), ('retired.As', 'VBN'), ('an', 'DT'), ('ardent', 'JJ'), ('fan', 'NN'), ('of', 'IN'), ('HP12C', 'NNP'), ('and', 'CC'), ('line', 'NN'), ('of', 'IN'), ('financial', 'JJ'), ('business', 'NN'), ('&', 'CC'), ('scientific', 'JJ'), ('calculators,', 'NN'), ('I', 'PRP'), ('am', 'VBP'), ('of', 'IN'), ('the', 'DT'), ('view', 'NN'), ('that', 'IN'), ('the', 'DT'), ('day', 'NN'), ('when', 'WRB'), ('HP', 'NNP'), ('discontinue', 'VBP'), ('the', 'DT'), ('HP12C', 'NNP'), ('would', 'MD'), ('be', 'VB'), ('the', 'DT'), ('day', 'NN'), ('it', 'PRP'), ('exit', 'VBZ'), ('this', 'DT'), ('business', 'NN'), ('segment.', 'NN'), ('I', 'PRP'), ('speculate', 'VBP'), ('this', 'DT'), ('would', 'MD'), ('happen', 'VB'), ('when', 'WRB'), ('the', 'DT'), ('HP', 'NNP'), ('brandname', 'NN'), ('disappears', 'VBZ'), ('from', 'IN'), ('the', 'DT'), ('12C', 'CD'), ('just', 'RB'), ('like', 'IN'), ('after', 'IN'), ('IBM', 'NNP'), ('name', 'NN'), ('had', 'VBD'), ('disappeared', 'VBN'), ('from', 'IN'), ('ThinkPads', 'NNP'), ('and', 'CC'), ('ThinkCentres.Since', 'NNP'), ('the', 'DT'), ('price', 'NN'), ('of', 'IN'), ('GOLD', 'NNP'), ('is', 'VBZ'), ('on', 'IN'), ('the', 'DT'), ('rise,', 'NN'), ('it', 'PRP'), ('is', 'VBZ'), ('indeed', 'RB'), ('puzzling', 'VBG'), ('to', 'TO'), ('fans', 'NNS'), ('of', 'IN'), ('the', 'DT'), ('HP12C,', 'NNP'), ('why', 'WRB'), ('HP', 'NNP'), ('did', 'VBD'), ('not', 'RB'), ('release', 'VB'), ('a', 'DT'), ('genuine', 'JJ'), ('HP12C', 'NNP'), ('gold', 'NN'), ('25th', 'CD'), ('anniversary', 'JJ'), ('model', 'NN'), ('for', 'IN'), ('the', 'DT'), ('fans', 'NNS'), ('to', 'TO'), ('mark', 'VB'), ('the', 'DT'), ('occasion,', 'NN'), ('if', 'IN'), ('replacing', 'VBG'), ('the', 'DT'), ('discontinuing', 'VBG'), ('the', 'DT'), ('HP12C', 'NNP'), ('GOLD', 'NNP'), ('is', 'VBZ'), ('the', 'DT'), ('intention', 'NN'), ('READ', 'NNP'), ('ALL', 'NNP'), ('GOLDEN', 'NNP'), ('RULES', 'NNP'), ('above.To', 'RB'), ('be', 'VB'), ('fair,', 'VBN'), ('the', 'DT'), ('silver', 'NN'), ('HP12c', 'NNP'), ('Platinum', 'NNP'), ('Anniversary', 'NNP'), ('is', 'VBZ'), ('very', 'RB'), ('nice', 'JJ'), ('and', 'CC'), ('has', 'VBZ'), ('spotted', 'VBN'), ('the', 'DT'), ('\"retro\"', 'NNP'), ('silver', 'NN'), ('look', 'NN'), ('of', 'IN'), ('the', 'DT'), ('HP', 'NNP'), ('11C,', 'CD'), ('however,', 'NN'), ('it', 'PRP'), ('is', 'VBZ'), ('still', 'RB'), ('not', 'RB'), ('the', 'DT'), ('GOLD', 'NNP'), ('standard.', 'NN'), ('With', 'IN'), ('HP', 'NNP'), ('missing', 'VBG'), ('this', 'DT'), ('golden', 'JJ'), ('opportunity', 'NN'), ('to', 'TO'), ('mark', 'VB'), ('the', 'DT'), ('occasion,', 'NN'), ('I', 'PRP'), ('would', 'MD'), ('love', 'VB'), ('to', 'TO'), ('see', 'VB'), ('and', 'CC'), ('own', 'VB'), ('a', 'DT'), ('HP', 'NNP'), ('12C', 'CD'), ('engraved', 'VBD'), ('with', 'IN'), ('50th', 'JJ'), ('Anniversary', 'NNP'), ('logo,', 'NN'), ('reckon', 'NN'), ('that', 'IN'), ('this', 'DT'), ('would', 'MD'), ('be', 'VB'), ('the', 'DT'), ('ultimate', 'JJ'), ('testimony', 'NN'), ('for', 'IN'), ('the', 'DT'), ('HP12C', 'NNP'), ('and', 'CC'), ('a', 'DT'), ('milestone', 'NN'), ('for', 'IN'), ('its', 'PRP$'), ('fans.Looking', 'NN'), ('forward,', 'NN'), ('a', 'DT'), ('GOLD', 'NNP'), ('50th', 'CD'), ('anniversary', 'JJ'), ('HP12C', 'NNP'), ('Anniversary', 'NNP'), ('model', 'NN'), ('would', 'MD'), ('be', 'VB'), ('very', 'RB'), ('nice', 'JJ'), ('for', 'IN'), ('the', 'DT'), ('fans.For', 'NN'), ('HP,', 'NNP'), ('this', 'DT'), ('is', 'VBZ'), ('a', 'DT'), ('lucrative', 'JJ'), ('business', 'NN'), ('proposition.', 'NN'), ('By', 'IN'), ('now,', 'NN'), ('they', 'PRP'), ('would', 'MD'), ('have', 'VB'), ('realized', 'VBN'), ('that', 'IN'), ('if', 'IN'), ('they', 'PRP'), ('have', 'VBP'), ('any', 'DT'), ('of', 'IN'), ('its', 'PRP$'), ('products', 'NNS'), ('which', 'WDT'), ('could', 'MD'), ('hit', 'VB'), ('a', 'DT'), ('50th', 'JJ'), ('year', 'NN'), ('home', 'NN'), ('run', 'NN'), ('in', 'IN'), ('2031,', 'CD'), ('it', 'PRP'), ('would', 'MD'), ('not', 'RB'), ('be', 'VB'), ('from', 'IN'), ('its', 'PRP$'), ('other', 'JJ'), ('product', 'NN'), ('line-it', 'NN'), ('would', 'MD'), ('be', 'VB'), ('this', 'DT'), ('original', 'JJ'), ('HP12C', 'NNP'), ('GOLD', 'NNP'), ('standard', 'NN'), ('bearer.', 'NN'), ('So', 'NNP'), ('please', 'JJ'), ('treat', 'NN'), ('the', 'DT'), ('old', 'JJ'), ('workhorse', 'NN'), ('with', 'IN'), ('the', 'DT'), ('upmost', 'NN'), ('respect!', 'NN')], 'adjective': ['old', 'satisfied', 'frank', 'non-techkie', 'synonymous', 'handheld', 'electronic', 'financial', 'first', 'personal', 'users.To', '\"gold\"', 'other', 'matured', 'only', 'electronic', 'proven', 'unchanged', 'indispensable', '\"portable\"', 'finance-business', 'handy', 'portable', 'personal', 'serious', 'ultimate', 'solution,', 'continued', 'disappointing', 'major', 'futile', 'own', 'rightful', 'financial', 'following', 'golden', 'same', 'paramount', 'users.GOLDEN', 'right.', 'ultimate', 'ardent', 'financial', 'scientific', 'genuine', 'anniversary', 'nice', 'golden', '50th', 'ultimate', 'anniversary', 'nice', 'lucrative', '50th', 'other', 'original', 'please', 'old']}\n"
          ],
          "name": "stdout"
        }
      ]
    }
  ]
}