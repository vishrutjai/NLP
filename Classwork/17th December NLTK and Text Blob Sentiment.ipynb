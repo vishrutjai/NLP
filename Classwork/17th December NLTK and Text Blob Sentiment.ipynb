{
  "nbformat": 4,
  "nbformat_minor": 0,
  "metadata": {
    "colab": {
      "name": "Untitled",
      "provenance": [],
      "collapsed_sections": [],
      "include_colab_link": true
    },
    "kernelspec": {
      "name": "python3",
      "display_name": "Python 3"
    }
  },
  "cells": [
    {
      "cell_type": "markdown",
      "metadata": {
        "id": "view-in-github",
        "colab_type": "text"
      },
      "source": [
        "<a href=\"https://colab.research.google.com/github/vishrutjai/NLP/blob/master/Classwork/17th%20December%20NLTK%20and%20Text%20Blob%20Sentiment.ipynb\" target=\"_parent\"><img src=\"https://colab.research.google.com/assets/colab-badge.svg\" alt=\"Open In Colab\"/></a>"
      ]
    },
    {
      "cell_type": "code",
      "metadata": {
        "id": "owYJXOOM9-_6",
        "colab_type": "code",
        "outputId": "e207e2bf-2a7c-4040-fec3-0db30ee28dfc",
        "colab": {
          "base_uri": "https://localhost:8080/",
          "height": 326
        }
      },
      "source": [
        "! pip install vaderSentiment\n",
        "! pip install glove_python"
      ],
      "execution_count": 1,
      "outputs": [
        {
          "output_type": "stream",
          "text": [
            "Collecting vaderSentiment\n",
            "\u001b[?25l  Downloading https://files.pythonhosted.org/packages/86/9e/c53e1fc61aac5ee490a6ac5e21b1ac04e55a7c2aba647bb8411c9aadf24e/vaderSentiment-3.2.1-py2.py3-none-any.whl (125kB)\n",
            "\r\u001b[K     |██▋                             | 10kB 19.1MB/s eta 0:00:01\r\u001b[K     |█████▏                          | 20kB 1.8MB/s eta 0:00:01\r\u001b[K     |███████▉                        | 30kB 2.6MB/s eta 0:00:01\r\u001b[K     |██████████▍                     | 40kB 1.7MB/s eta 0:00:01\r\u001b[K     |█████████████                   | 51kB 2.1MB/s eta 0:00:01\r\u001b[K     |███████████████▋                | 61kB 2.5MB/s eta 0:00:01\r\u001b[K     |██████████████████▎             | 71kB 2.9MB/s eta 0:00:01\r\u001b[K     |████████████████████▉           | 81kB 3.3MB/s eta 0:00:01\r\u001b[K     |███████████████████████▍        | 92kB 3.7MB/s eta 0:00:01\r\u001b[K     |██████████████████████████      | 102kB 2.8MB/s eta 0:00:01\r\u001b[K     |████████████████████████████▋   | 112kB 2.8MB/s eta 0:00:01\r\u001b[K     |███████████████████████████████▎| 122kB 2.8MB/s eta 0:00:01\r\u001b[K     |████████████████████████████████| 133kB 2.8MB/s \n",
            "\u001b[?25hInstalling collected packages: vaderSentiment\n",
            "Successfully installed vaderSentiment-3.2.1\n",
            "Collecting glove_python\n",
            "\u001b[?25l  Downloading https://files.pythonhosted.org/packages/3e/79/7e7e548dd9dcb741935d031117f4bed133276c2a047aadad42f1552d1771/glove_python-0.1.0.tar.gz (263kB)\n",
            "\u001b[K     |████████████████████████████████| 266kB 2.8MB/s \n",
            "\u001b[?25hRequirement already satisfied: numpy in /usr/local/lib/python3.6/dist-packages (from glove_python) (1.17.4)\n",
            "Requirement already satisfied: scipy in /usr/local/lib/python3.6/dist-packages (from glove_python) (1.3.3)\n",
            "Building wheels for collected packages: glove-python\n",
            "  Building wheel for glove-python (setup.py) ... \u001b[?25l\u001b[?25hdone\n",
            "  Created wheel for glove-python: filename=glove_python-0.1.0-cp36-cp36m-linux_x86_64.whl size=700333 sha256=fb666f2e62ab5d3478d5292af06ba42b55ba7d6e524d6c26863e99b375a5c544\n",
            "  Stored in directory: /root/.cache/pip/wheels/88/4b/6d/10c0d2ad32c9d9d68beec9694a6f0b6e83ab1662a90a089a4b\n",
            "Successfully built glove-python\n",
            "Installing collected packages: glove-python\n",
            "Successfully installed glove-python-0.1.0\n"
          ],
          "name": "stdout"
        }
      ]
    },
    {
      "cell_type": "code",
      "metadata": {
        "id": "gN1NI5AH1Upe",
        "colab_type": "code",
        "colab": {
          "base_uri": "https://localhost:8080/",
          "height": 71
        },
        "outputId": "fdc4dd39-f8e0-4aa9-b2d7-a46dfc65dcb1"
      },
      "source": [
        "import pandas as pd\n",
        "from textblob import TextBlob\n",
        "import nltk\n",
        "import numpy as np\n",
        "import nltk.sentiment\n",
        "from vaderSentiment.vaderSentiment import SentimentIntensityAnalyzer\n"
      ],
      "execution_count": 2,
      "outputs": [
        {
          "output_type": "stream",
          "text": [
            "/usr/local/lib/python3.6/dist-packages/nltk/twitter/__init__.py:20: UserWarning: The twython library has not been installed. Some functionality from the twitter package will not be available.\n",
            "  warnings.warn(\"The twython library has not been installed. \"\n"
          ],
          "name": "stderr"
        }
      ]
    },
    {
      "cell_type": "code",
      "metadata": {
        "id": "fOfPWNyr1J0g",
        "colab_type": "code",
        "outputId": "4daa4bd4-5b80-4f21-ed52-159a48ff20b0",
        "colab": {
          "base_uri": "https://localhost:8080/",
          "height": 204
        }
      },
      "source": [
        "path = 'https://raw.githubusercontent.com/zfz/twitter_corpus/master/full-corpus.csv'\n",
        "df = pd.read_csv(path)\n",
        "df.head()"
      ],
      "execution_count": 3,
      "outputs": [
        {
          "output_type": "execute_result",
          "data": {
            "text/html": [
              "<div>\n",
              "<style scoped>\n",
              "    .dataframe tbody tr th:only-of-type {\n",
              "        vertical-align: middle;\n",
              "    }\n",
              "\n",
              "    .dataframe tbody tr th {\n",
              "        vertical-align: top;\n",
              "    }\n",
              "\n",
              "    .dataframe thead th {\n",
              "        text-align: right;\n",
              "    }\n",
              "</style>\n",
              "<table border=\"1\" class=\"dataframe\">\n",
              "  <thead>\n",
              "    <tr style=\"text-align: right;\">\n",
              "      <th></th>\n",
              "      <th>Topic</th>\n",
              "      <th>Sentiment</th>\n",
              "      <th>TweetId</th>\n",
              "      <th>TweetDate</th>\n",
              "      <th>TweetText</th>\n",
              "    </tr>\n",
              "  </thead>\n",
              "  <tbody>\n",
              "    <tr>\n",
              "      <th>0</th>\n",
              "      <td>apple</td>\n",
              "      <td>positive</td>\n",
              "      <td>126415614616154112</td>\n",
              "      <td>Tue Oct 18 21:53:25 +0000 2011</td>\n",
              "      <td>Now all @Apple has to do is get swype on the i...</td>\n",
              "    </tr>\n",
              "    <tr>\n",
              "      <th>1</th>\n",
              "      <td>apple</td>\n",
              "      <td>positive</td>\n",
              "      <td>126404574230740992</td>\n",
              "      <td>Tue Oct 18 21:09:33 +0000 2011</td>\n",
              "      <td>@Apple will be adding more carrier support to ...</td>\n",
              "    </tr>\n",
              "    <tr>\n",
              "      <th>2</th>\n",
              "      <td>apple</td>\n",
              "      <td>positive</td>\n",
              "      <td>126402758403305474</td>\n",
              "      <td>Tue Oct 18 21:02:20 +0000 2011</td>\n",
              "      <td>Hilarious @youtube video - guy does a duet wit...</td>\n",
              "    </tr>\n",
              "    <tr>\n",
              "      <th>3</th>\n",
              "      <td>apple</td>\n",
              "      <td>positive</td>\n",
              "      <td>126397179614068736</td>\n",
              "      <td>Tue Oct 18 20:40:10 +0000 2011</td>\n",
              "      <td>@RIM you made it too easy for me to switch to ...</td>\n",
              "    </tr>\n",
              "    <tr>\n",
              "      <th>4</th>\n",
              "      <td>apple</td>\n",
              "      <td>positive</td>\n",
              "      <td>126395626979196928</td>\n",
              "      <td>Tue Oct 18 20:34:00 +0000 2011</td>\n",
              "      <td>I just realized that the reason I got into twi...</td>\n",
              "    </tr>\n",
              "  </tbody>\n",
              "</table>\n",
              "</div>"
            ],
            "text/plain": [
              "   Topic  ...                                          TweetText\n",
              "0  apple  ...  Now all @Apple has to do is get swype on the i...\n",
              "1  apple  ...  @Apple will be adding more carrier support to ...\n",
              "2  apple  ...  Hilarious @youtube video - guy does a duet wit...\n",
              "3  apple  ...  @RIM you made it too easy for me to switch to ...\n",
              "4  apple  ...  I just realized that the reason I got into twi...\n",
              "\n",
              "[5 rows x 5 columns]"
            ]
          },
          "metadata": {
            "tags": []
          },
          "execution_count": 3
        }
      ]
    },
    {
      "cell_type": "code",
      "metadata": {
        "id": "yVTG1Hc613QZ",
        "colab_type": "code",
        "outputId": "158efef8-517d-48cf-8732-d2bec07ad206",
        "colab": {
          "base_uri": "https://localhost:8080/",
          "height": 204
        }
      },
      "source": [
        "def textblobsen(l):\n",
        "    #d = {}\n",
        "    a = (TextBlob(l).sentiment.polarity)\n",
        "    if a == 0.0:\n",
        "        return 'neutral'\n",
        "    elif a > 0:\n",
        "        return 'positive'\n",
        "    else:\n",
        "        return 'negative'\n",
        "    #return d\n",
        "\n",
        "df['Text Blob']=df['TweetText'].apply(textblobsen)\n",
        "df.head()"
      ],
      "execution_count": 4,
      "outputs": [
        {
          "output_type": "execute_result",
          "data": {
            "text/html": [
              "<div>\n",
              "<style scoped>\n",
              "    .dataframe tbody tr th:only-of-type {\n",
              "        vertical-align: middle;\n",
              "    }\n",
              "\n",
              "    .dataframe tbody tr th {\n",
              "        vertical-align: top;\n",
              "    }\n",
              "\n",
              "    .dataframe thead th {\n",
              "        text-align: right;\n",
              "    }\n",
              "</style>\n",
              "<table border=\"1\" class=\"dataframe\">\n",
              "  <thead>\n",
              "    <tr style=\"text-align: right;\">\n",
              "      <th></th>\n",
              "      <th>Topic</th>\n",
              "      <th>Sentiment</th>\n",
              "      <th>TweetId</th>\n",
              "      <th>TweetDate</th>\n",
              "      <th>TweetText</th>\n",
              "      <th>Text Blob</th>\n",
              "    </tr>\n",
              "  </thead>\n",
              "  <tbody>\n",
              "    <tr>\n",
              "      <th>0</th>\n",
              "      <td>apple</td>\n",
              "      <td>positive</td>\n",
              "      <td>126415614616154112</td>\n",
              "      <td>Tue Oct 18 21:53:25 +0000 2011</td>\n",
              "      <td>Now all @Apple has to do is get swype on the i...</td>\n",
              "      <td>neutral</td>\n",
              "    </tr>\n",
              "    <tr>\n",
              "      <th>1</th>\n",
              "      <td>apple</td>\n",
              "      <td>positive</td>\n",
              "      <td>126404574230740992</td>\n",
              "      <td>Tue Oct 18 21:09:33 +0000 2011</td>\n",
              "      <td>@Apple will be adding more carrier support to ...</td>\n",
              "      <td>positive</td>\n",
              "    </tr>\n",
              "    <tr>\n",
              "      <th>2</th>\n",
              "      <td>apple</td>\n",
              "      <td>positive</td>\n",
              "      <td>126402758403305474</td>\n",
              "      <td>Tue Oct 18 21:02:20 +0000 2011</td>\n",
              "      <td>Hilarious @youtube video - guy does a duet wit...</td>\n",
              "      <td>positive</td>\n",
              "    </tr>\n",
              "    <tr>\n",
              "      <th>3</th>\n",
              "      <td>apple</td>\n",
              "      <td>positive</td>\n",
              "      <td>126397179614068736</td>\n",
              "      <td>Tue Oct 18 20:40:10 +0000 2011</td>\n",
              "      <td>@RIM you made it too easy for me to switch to ...</td>\n",
              "      <td>positive</td>\n",
              "    </tr>\n",
              "    <tr>\n",
              "      <th>4</th>\n",
              "      <td>apple</td>\n",
              "      <td>positive</td>\n",
              "      <td>126395626979196928</td>\n",
              "      <td>Tue Oct 18 20:34:00 +0000 2011</td>\n",
              "      <td>I just realized that the reason I got into twi...</td>\n",
              "      <td>positive</td>\n",
              "    </tr>\n",
              "  </tbody>\n",
              "</table>\n",
              "</div>"
            ],
            "text/plain": [
              "   Topic Sentiment  ...                                          TweetText Text Blob\n",
              "0  apple  positive  ...  Now all @Apple has to do is get swype on the i...   neutral\n",
              "1  apple  positive  ...  @Apple will be adding more carrier support to ...  positive\n",
              "2  apple  positive  ...  Hilarious @youtube video - guy does a duet wit...  positive\n",
              "3  apple  positive  ...  @RIM you made it too easy for me to switch to ...  positive\n",
              "4  apple  positive  ...  I just realized that the reason I got into twi...  positive\n",
              "\n",
              "[5 rows x 6 columns]"
            ]
          },
          "metadata": {
            "tags": []
          },
          "execution_count": 4
        }
      ]
    },
    {
      "cell_type": "code",
      "metadata": {
        "id": "rEO6d4l3-Jth",
        "colab_type": "code",
        "outputId": "8920ba97-7616-4be5-e912-bc744ac3039d",
        "colab": {
          "base_uri": "https://localhost:8080/",
          "height": 306
        }
      },
      "source": [
        "analyser = SentimentIntensityAnalyzer()\n",
        "def sentiment_analyzer_scores(sentence):\n",
        "    score = analyser.polarity_scores(sentence)\n",
        "    score['compound'] = -1\n",
        "    return score\n",
        "    '''score = sorted(score.items)\n",
        "    d[score[3]] = d[score[3].items]\n",
        "    return d'''\n",
        "    '''for x in sorted(score.items):\n",
        "        if score[x] > max:\n",
        "            max = '''\n",
        "df['NLTK']=df['TweetText'].apply(sentiment_analyzer_scores)\n",
        "df.head()\n"
      ],
      "execution_count": 5,
      "outputs": [
        {
          "output_type": "execute_result",
          "data": {
            "text/html": [
              "<div>\n",
              "<style scoped>\n",
              "    .dataframe tbody tr th:only-of-type {\n",
              "        vertical-align: middle;\n",
              "    }\n",
              "\n",
              "    .dataframe tbody tr th {\n",
              "        vertical-align: top;\n",
              "    }\n",
              "\n",
              "    .dataframe thead th {\n",
              "        text-align: right;\n",
              "    }\n",
              "</style>\n",
              "<table border=\"1\" class=\"dataframe\">\n",
              "  <thead>\n",
              "    <tr style=\"text-align: right;\">\n",
              "      <th></th>\n",
              "      <th>Topic</th>\n",
              "      <th>Sentiment</th>\n",
              "      <th>TweetId</th>\n",
              "      <th>TweetDate</th>\n",
              "      <th>TweetText</th>\n",
              "      <th>Text Blob</th>\n",
              "      <th>NLTK</th>\n",
              "    </tr>\n",
              "  </thead>\n",
              "  <tbody>\n",
              "    <tr>\n",
              "      <th>0</th>\n",
              "      <td>apple</td>\n",
              "      <td>positive</td>\n",
              "      <td>126415614616154112</td>\n",
              "      <td>Tue Oct 18 21:53:25 +0000 2011</td>\n",
              "      <td>Now all @Apple has to do is get swype on the i...</td>\n",
              "      <td>neutral</td>\n",
              "      <td>{'neg': 0.0, 'neu': 1.0, 'pos': 0.0, 'compound...</td>\n",
              "    </tr>\n",
              "    <tr>\n",
              "      <th>1</th>\n",
              "      <td>apple</td>\n",
              "      <td>positive</td>\n",
              "      <td>126404574230740992</td>\n",
              "      <td>Tue Oct 18 21:09:33 +0000 2011</td>\n",
              "      <td>@Apple will be adding more carrier support to ...</td>\n",
              "      <td>positive</td>\n",
              "      <td>{'neg': 0.0, 'neu': 0.801, 'pos': 0.199, 'comp...</td>\n",
              "    </tr>\n",
              "    <tr>\n",
              "      <th>2</th>\n",
              "      <td>apple</td>\n",
              "      <td>positive</td>\n",
              "      <td>126402758403305474</td>\n",
              "      <td>Tue Oct 18 21:02:20 +0000 2011</td>\n",
              "      <td>Hilarious @youtube video - guy does a duet wit...</td>\n",
              "      <td>positive</td>\n",
              "      <td>{'neg': 0.0, 'neu': 0.591, 'pos': 0.409, 'comp...</td>\n",
              "    </tr>\n",
              "    <tr>\n",
              "      <th>3</th>\n",
              "      <td>apple</td>\n",
              "      <td>positive</td>\n",
              "      <td>126397179614068736</td>\n",
              "      <td>Tue Oct 18 20:40:10 +0000 2011</td>\n",
              "      <td>@RIM you made it too easy for me to switch to ...</td>\n",
              "      <td>positive</td>\n",
              "      <td>{'neg': 0.0, 'neu': 0.814, 'pos': 0.186, 'comp...</td>\n",
              "    </tr>\n",
              "    <tr>\n",
              "      <th>4</th>\n",
              "      <td>apple</td>\n",
              "      <td>positive</td>\n",
              "      <td>126395626979196928</td>\n",
              "      <td>Tue Oct 18 20:34:00 +0000 2011</td>\n",
              "      <td>I just realized that the reason I got into twi...</td>\n",
              "      <td>positive</td>\n",
              "      <td>{'neg': 0.0, 'neu': 0.791, 'pos': 0.209, 'comp...</td>\n",
              "    </tr>\n",
              "  </tbody>\n",
              "</table>\n",
              "</div>"
            ],
            "text/plain": [
              "   Topic Sentiment  ...  Text Blob                                               NLTK\n",
              "0  apple  positive  ...    neutral  {'neg': 0.0, 'neu': 1.0, 'pos': 0.0, 'compound...\n",
              "1  apple  positive  ...   positive  {'neg': 0.0, 'neu': 0.801, 'pos': 0.199, 'comp...\n",
              "2  apple  positive  ...   positive  {'neg': 0.0, 'neu': 0.591, 'pos': 0.409, 'comp...\n",
              "3  apple  positive  ...   positive  {'neg': 0.0, 'neu': 0.814, 'pos': 0.186, 'comp...\n",
              "4  apple  positive  ...   positive  {'neg': 0.0, 'neu': 0.791, 'pos': 0.209, 'comp...\n",
              "\n",
              "[5 rows x 7 columns]"
            ]
          },
          "metadata": {
            "tags": []
          },
          "execution_count": 5
        }
      ]
    },
    {
      "cell_type": "code",
      "metadata": {
        "id": "OYa8kn2kCwjs",
        "colab_type": "code",
        "outputId": "80cf49e4-a52d-4968-855e-fecf03f73af8",
        "colab": {
          "base_uri": "https://localhost:8080/",
          "height": 204
        }
      },
      "source": [
        "\n",
        "def sentimentNltk(tweet):\n",
        "  ss = SentimentIntensityAnalyzer().polarity_scores(tweet)\n",
        "  m = max(ss, key = ss.get)\n",
        "  #d = {}\n",
        "  #d[m] = ss[m]\n",
        "  if m == 'neu':\n",
        "      return 'neutral'\n",
        "  elif m == 'pos':\n",
        "        return 'positive'\n",
        "  else:\n",
        "      return 'negative'\n",
        "  #return d\n",
        "\n",
        "df['NLTK']=df['TweetText'].apply(sentimentNltk)\n",
        "df.head()"
      ],
      "execution_count": 6,
      "outputs": [
        {
          "output_type": "execute_result",
          "data": {
            "text/html": [
              "<div>\n",
              "<style scoped>\n",
              "    .dataframe tbody tr th:only-of-type {\n",
              "        vertical-align: middle;\n",
              "    }\n",
              "\n",
              "    .dataframe tbody tr th {\n",
              "        vertical-align: top;\n",
              "    }\n",
              "\n",
              "    .dataframe thead th {\n",
              "        text-align: right;\n",
              "    }\n",
              "</style>\n",
              "<table border=\"1\" class=\"dataframe\">\n",
              "  <thead>\n",
              "    <tr style=\"text-align: right;\">\n",
              "      <th></th>\n",
              "      <th>Topic</th>\n",
              "      <th>Sentiment</th>\n",
              "      <th>TweetId</th>\n",
              "      <th>TweetDate</th>\n",
              "      <th>TweetText</th>\n",
              "      <th>Text Blob</th>\n",
              "      <th>NLTK</th>\n",
              "    </tr>\n",
              "  </thead>\n",
              "  <tbody>\n",
              "    <tr>\n",
              "      <th>0</th>\n",
              "      <td>apple</td>\n",
              "      <td>positive</td>\n",
              "      <td>126415614616154112</td>\n",
              "      <td>Tue Oct 18 21:53:25 +0000 2011</td>\n",
              "      <td>Now all @Apple has to do is get swype on the i...</td>\n",
              "      <td>neutral</td>\n",
              "      <td>neutral</td>\n",
              "    </tr>\n",
              "    <tr>\n",
              "      <th>1</th>\n",
              "      <td>apple</td>\n",
              "      <td>positive</td>\n",
              "      <td>126404574230740992</td>\n",
              "      <td>Tue Oct 18 21:09:33 +0000 2011</td>\n",
              "      <td>@Apple will be adding more carrier support to ...</td>\n",
              "      <td>positive</td>\n",
              "      <td>neutral</td>\n",
              "    </tr>\n",
              "    <tr>\n",
              "      <th>2</th>\n",
              "      <td>apple</td>\n",
              "      <td>positive</td>\n",
              "      <td>126402758403305474</td>\n",
              "      <td>Tue Oct 18 21:02:20 +0000 2011</td>\n",
              "      <td>Hilarious @youtube video - guy does a duet wit...</td>\n",
              "      <td>positive</td>\n",
              "      <td>negative</td>\n",
              "    </tr>\n",
              "    <tr>\n",
              "      <th>3</th>\n",
              "      <td>apple</td>\n",
              "      <td>positive</td>\n",
              "      <td>126397179614068736</td>\n",
              "      <td>Tue Oct 18 20:40:10 +0000 2011</td>\n",
              "      <td>@RIM you made it too easy for me to switch to ...</td>\n",
              "      <td>positive</td>\n",
              "      <td>neutral</td>\n",
              "    </tr>\n",
              "    <tr>\n",
              "      <th>4</th>\n",
              "      <td>apple</td>\n",
              "      <td>positive</td>\n",
              "      <td>126395626979196928</td>\n",
              "      <td>Tue Oct 18 20:34:00 +0000 2011</td>\n",
              "      <td>I just realized that the reason I got into twi...</td>\n",
              "      <td>positive</td>\n",
              "      <td>neutral</td>\n",
              "    </tr>\n",
              "  </tbody>\n",
              "</table>\n",
              "</div>"
            ],
            "text/plain": [
              "   Topic Sentiment  ...  Text Blob      NLTK\n",
              "0  apple  positive  ...    neutral   neutral\n",
              "1  apple  positive  ...   positive   neutral\n",
              "2  apple  positive  ...   positive  negative\n",
              "3  apple  positive  ...   positive   neutral\n",
              "4  apple  positive  ...   positive   neutral\n",
              "\n",
              "[5 rows x 7 columns]"
            ]
          },
          "metadata": {
            "tags": []
          },
          "execution_count": 6
        }
      ]
    },
    {
      "cell_type": "code",
      "metadata": {
        "id": "CeJHjIkd-hnj",
        "colab_type": "code",
        "colab": {
          "base_uri": "https://localhost:8080/",
          "height": 85
        },
        "outputId": "c51a2262-d35a-4ca4-c1d9-99277ae11824"
      },
      "source": [
        "from sklearn.metrics import confusion_matrix\n",
        "\n",
        "confusion_matrix(df['Sentiment'],df['Text Blob'])"
      ],
      "execution_count": 7,
      "outputs": [
        {
          "output_type": "execute_result",
          "data": {
            "text/plain": [
              "array([[   0,   61, 1366,  262],\n",
              "       [   0,  234,  171,  167],\n",
              "       [   0,  201, 1213,  919],\n",
              "       [   0,   38,  124,  357]])"
            ]
          },
          "metadata": {
            "tags": []
          },
          "execution_count": 7
        }
      ]
    },
    {
      "cell_type": "code",
      "metadata": {
        "id": "Jrx1jkTnF5ID",
        "colab_type": "code",
        "colab": {
          "base_uri": "https://localhost:8080/",
          "height": 85
        },
        "outputId": "0df5fc7f-7fe4-4af6-cf09-6bd13aceab6d"
      },
      "source": [
        "confusion_matrix(df['Sentiment'],df['NLTK'])"
      ],
      "execution_count": 8,
      "outputs": [
        {
          "output_type": "execute_result",
          "data": {
            "text/plain": [
              "array([[   0,   50, 1639,    0],\n",
              "       [   0,   37,  535,    0],\n",
              "       [   0,  168, 2149,   16],\n",
              "       [   0,  132,  376,   11]])"
            ]
          },
          "metadata": {
            "tags": []
          },
          "execution_count": 8
        }
      ]
    }
  ]
}