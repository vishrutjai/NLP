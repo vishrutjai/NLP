{
  "nbformat": 4,
  "nbformat_minor": 0,
  "metadata": {
    "colab": {
      "name": "nth Prime.ipynb",
      "provenance": []
    },
    "kernelspec": {
      "name": "python3",
      "display_name": "Python 3"
    }
  },
  "cells": [
    {
      "cell_type": "code",
      "metadata": {
        "id": "c-wKfg2AR5oP",
        "colab_type": "code",
        "outputId": "aa76aea3-00fd-4bb4-bd23-23f7de1ec24f",
        "colab": {
          "base_uri": "https://localhost:8080/",
          "height": 34
        }
      },
      "source": [
        "def prime(n):\n",
        "      flag = 0\n",
        "      for x in range(2,int(n**1/2)+1):\n",
        "          if n % x == 0:\n",
        "              flag = 1\n",
        "              break\n",
        "      if flag == 1:\n",
        "          return False          # Returns False if number is not prime\n",
        "      else:\n",
        "          return True           # Returns True if number is prime\n",
        "\n",
        "    \n",
        "n = 5                           # Number of the prime required\n",
        "\n",
        "i = 2                           # 1st prime  number\n",
        "count = 0                       # Number of prime numbers currently calculated\n",
        "while True:\n",
        "    if prime(i) == True:\n",
        "        count += 1\n",
        "    if count == n:\n",
        "        print(n, 'th prime number is ', i)\n",
        "        break\n",
        "    i += 1\n",
        "\n",
        "\n",
        "\n"
      ],
      "execution_count": 1,
      "outputs": [
        {
          "output_type": "stream",
          "text": [
            "5 th prime number is  11\n"
          ],
          "name": "stdout"
        }
      ]
    }
  ]
}