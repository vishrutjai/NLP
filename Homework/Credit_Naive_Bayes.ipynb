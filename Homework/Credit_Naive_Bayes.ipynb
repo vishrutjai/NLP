{
  "nbformat": 4,
  "nbformat_minor": 0,
  "metadata": {
    "colab": {
      "name": "Credit Naive Bayes.ipynb",
      "provenance": [],
      "include_colab_link": true
    },
    "kernelspec": {
      "name": "python3",
      "display_name": "Python 3"
    }
  },
  "cells": [
    {
      "cell_type": "markdown",
      "metadata": {
        "id": "view-in-github",
        "colab_type": "text"
      },
      "source": [
        "<a href=\"https://colab.research.google.com/github/vishrutjai/NLP/blob/master/Homework/Credit_Naive_Bayes.ipynb\" target=\"_parent\"><img src=\"https://colab.research.google.com/assets/colab-badge.svg\" alt=\"Open In Colab\"/></a>"
      ]
    },
    {
      "cell_type": "code",
      "metadata": {
        "id": "crHm6Ip_xZ00",
        "colab_type": "code",
        "colab": {}
      },
      "source": [
        "import pandas as pd\n",
        "import numpy as np\n",
        "from sklearn.naive_bayes import GaussianNB\n",
        "from sklearn.model_selection import train_test_split as tts\n",
        "from sklearn.metrics import confusion_matrix, classification_report, accuracy_score"
      ],
      "execution_count": 0,
      "outputs": []
    },
    {
      "cell_type": "code",
      "metadata": {
        "id": "Xje739ZKy3AX",
        "colab_type": "code",
        "colab": {}
      },
      "source": [
        "path = \"/content/Bankloan.csv\"\n",
        "df = pd.read_csv(path)"
      ],
      "execution_count": 0,
      "outputs": []
    },
    {
      "cell_type": "code",
      "metadata": {
        "id": "a8L0kp0HzCtO",
        "colab_type": "code",
        "colab": {}
      },
      "source": [
        "y = df['default']\n",
        "X = df.drop('default', 1)\n",
        "x_train, x_test, y_train, y_test = tts(X, y, test_size=0.25, random_state=42)\n"
      ],
      "execution_count": 0,
      "outputs": []
    },
    {
      "cell_type": "code",
      "metadata": {
        "id": "LG8dMF88zwah",
        "colab_type": "code",
        "colab": {}
      },
      "source": [
        "gaussian = GaussianNB()\n",
        "gaussian.fit(x_train, y_train)\n",
        "y_pred = gaussian.predict(x_test)"
      ],
      "execution_count": 0,
      "outputs": []
    },
    {
      "cell_type": "code",
      "metadata": {
        "id": "jX6UvIgzz4Sn",
        "colab_type": "code",
        "colab": {
          "base_uri": "https://localhost:8080/",
          "height": 51
        },
        "outputId": "4c8a6461-6026-4cf3-a304-32777112cbed"
      },
      "source": [
        "print(confusion_matrix(y_test, y_pred))"
      ],
      "execution_count": 16,
      "outputs": [
        {
          "output_type": "stream",
          "text": [
            "[[122  10]\n",
            " [ 27  16]]\n"
          ],
          "name": "stdout"
        }
      ]
    },
    {
      "cell_type": "code",
      "metadata": {
        "id": "HjyZaHEA0Fnm",
        "colab_type": "code",
        "colab": {
          "base_uri": "https://localhost:8080/",
          "height": 170
        },
        "outputId": "fabcd6bb-befd-435b-cb78-6a76f6e161a0"
      },
      "source": [
        "print(classification_report(y_test, y_pred))"
      ],
      "execution_count": 17,
      "outputs": [
        {
          "output_type": "stream",
          "text": [
            "              precision    recall  f1-score   support\n",
            "\n",
            "           0       0.82      0.92      0.87       132\n",
            "           1       0.62      0.37      0.46        43\n",
            "\n",
            "    accuracy                           0.79       175\n",
            "   macro avg       0.72      0.65      0.67       175\n",
            "weighted avg       0.77      0.79      0.77       175\n",
            "\n"
          ],
          "name": "stdout"
        }
      ]
    }
  ]
}