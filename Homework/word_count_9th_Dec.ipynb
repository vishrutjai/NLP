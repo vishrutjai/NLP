{
  "nbformat": 4,
  "nbformat_minor": 0,
  "metadata": {
    "colab": {
      "name": "word_count 9th Dec.ipynb",
      "provenance": [],
      "collapsed_sections": [],
      "include_colab_link": true
    },
    "kernelspec": {
      "name": "python3",
      "display_name": "Python 3"
    }
  },
  "cells": [
    {
      "cell_type": "markdown",
      "metadata": {
        "id": "view-in-github",
        "colab_type": "text"
      },
      "source": [
        "<a href=\"https://colab.research.google.com/github/vishrutjai/NLP/blob/master/Homework/word_count_9th_Dec.ipynb\" target=\"_parent\"><img src=\"https://colab.research.google.com/assets/colab-badge.svg\" alt=\"Open In Colab\"/></a>"
      ]
    },
    {
      "cell_type": "markdown",
      "metadata": {
        "id": "lPIR-GEA6ipx",
        "colab_type": "text"
      },
      "source": [
        ""
      ]
    },
    {
      "cell_type": "code",
      "metadata": {
        "id": "4EJYxg9jeOLc",
        "colab_type": "code",
        "colab": {}
      },
      "source": [
        "import pandas as pd\n",
        "import re"
      ],
      "execution_count": 0,
      "outputs": []
    },
    {
      "cell_type": "code",
      "metadata": {
        "id": "4FsZOZTPi1Nk",
        "colab_type": "code",
        "outputId": "92bf9d3f-237d-4218-fb5a-85f82a6c41bd",
        "colab": {
          "base_uri": "https://localhost:8080/",
          "height": 289
        }
      },
      "source": [
        "df = pd.read_json('http://snap.stanford.edu/data/amazon/productGraph/categoryFiles/reviews_Office_Products_5.json.gz', lines=True)    \n",
        "df.head()"
      ],
      "execution_count": 22,
      "outputs": [
        {
          "output_type": "execute_result",
          "data": {
            "text/html": [
              "<div>\n",
              "<style scoped>\n",
              "    .dataframe tbody tr th:only-of-type {\n",
              "        vertical-align: middle;\n",
              "    }\n",
              "\n",
              "    .dataframe tbody tr th {\n",
              "        vertical-align: top;\n",
              "    }\n",
              "\n",
              "    .dataframe thead th {\n",
              "        text-align: right;\n",
              "    }\n",
              "</style>\n",
              "<table border=\"1\" class=\"dataframe\">\n",
              "  <thead>\n",
              "    <tr style=\"text-align: right;\">\n",
              "      <th></th>\n",
              "      <th>reviewerID</th>\n",
              "      <th>asin</th>\n",
              "      <th>reviewerName</th>\n",
              "      <th>helpful</th>\n",
              "      <th>reviewText</th>\n",
              "      <th>overall</th>\n",
              "      <th>summary</th>\n",
              "      <th>unixReviewTime</th>\n",
              "      <th>reviewTime</th>\n",
              "    </tr>\n",
              "  </thead>\n",
              "  <tbody>\n",
              "    <tr>\n",
              "      <th>0</th>\n",
              "      <td>A32T2H8150OJLU</td>\n",
              "      <td>B00000JBLH</td>\n",
              "      <td>ARH</td>\n",
              "      <td>[3, 4]</td>\n",
              "      <td>I bought my first HP12C in about 1984 or so, a...</td>\n",
              "      <td>5</td>\n",
              "      <td>A solid performer, and long time friend</td>\n",
              "      <td>1094169600</td>\n",
              "      <td>09 3, 2004</td>\n",
              "    </tr>\n",
              "    <tr>\n",
              "      <th>1</th>\n",
              "      <td>A3MAFS04ZABRGO</td>\n",
              "      <td>B00000JBLH</td>\n",
              "      <td>Let it Be \"Alan\"</td>\n",
              "      <td>[7, 9]</td>\n",
              "      <td>WHY THIS BELATED REVIEW? I feel very obliged t...</td>\n",
              "      <td>5</td>\n",
              "      <td>Price of GOLD is up, so don't bury the golden ...</td>\n",
              "      <td>1197676800</td>\n",
              "      <td>12 15, 2007</td>\n",
              "    </tr>\n",
              "    <tr>\n",
              "      <th>2</th>\n",
              "      <td>A1F1A0QQP2XVH5</td>\n",
              "      <td>B00000JBLH</td>\n",
              "      <td>Mark B</td>\n",
              "      <td>[3, 3]</td>\n",
              "      <td>I have an HP 48GX that has been kicking for mo...</td>\n",
              "      <td>2</td>\n",
              "      <td>Good functionality, but not durable like old HPs</td>\n",
              "      <td>1293840000</td>\n",
              "      <td>01 1, 2011</td>\n",
              "    </tr>\n",
              "    <tr>\n",
              "      <th>3</th>\n",
              "      <td>A49R5DBXXQDE5</td>\n",
              "      <td>B00000JBLH</td>\n",
              "      <td>R. D Johnson</td>\n",
              "      <td>[7, 8]</td>\n",
              "      <td>I've started doing more finance stuff recently...</td>\n",
              "      <td>5</td>\n",
              "      <td>One of the last of an almost extinct species</td>\n",
              "      <td>1145404800</td>\n",
              "      <td>04 19, 2006</td>\n",
              "    </tr>\n",
              "    <tr>\n",
              "      <th>4</th>\n",
              "      <td>A2XRMQA6PJ5ZJ8</td>\n",
              "      <td>B00000JBLH</td>\n",
              "      <td>Roger J. Buffington</td>\n",
              "      <td>[0, 0]</td>\n",
              "      <td>For simple calculations and discounted cash fl...</td>\n",
              "      <td>5</td>\n",
              "      <td>Still the best</td>\n",
              "      <td>1375574400</td>\n",
              "      <td>08 4, 2013</td>\n",
              "    </tr>\n",
              "  </tbody>\n",
              "</table>\n",
              "</div>"
            ],
            "text/plain": [
              "       reviewerID        asin  ... unixReviewTime   reviewTime\n",
              "0  A32T2H8150OJLU  B00000JBLH  ...     1094169600   09 3, 2004\n",
              "1  A3MAFS04ZABRGO  B00000JBLH  ...     1197676800  12 15, 2007\n",
              "2  A1F1A0QQP2XVH5  B00000JBLH  ...     1293840000   01 1, 2011\n",
              "3   A49R5DBXXQDE5  B00000JBLH  ...     1145404800  04 19, 2006\n",
              "4  A2XRMQA6PJ5ZJ8  B00000JBLH  ...     1375574400   08 4, 2013\n",
              "\n",
              "[5 rows x 9 columns]"
            ]
          },
          "metadata": {
            "tags": []
          },
          "execution_count": 22
        }
      ]
    },
    {
      "cell_type": "code",
      "metadata": {
        "id": "SHrd1wvbjzYt",
        "colab_type": "code",
        "colab": {}
      },
      "source": [
        "def num_unique_words(l):\n",
        "    d = {}\n",
        "    for x in l.split():\n",
        "        if x in d:\n",
        "            d[x] += 1\n",
        "        else:\n",
        "            d[x] = 1\n",
        "    return d"
      ],
      "execution_count": 0,
      "outputs": []
    },
    {
      "cell_type": "code",
      "metadata": {
        "id": "4yZbMGaqmurS",
        "colab_type": "code",
        "colab": {}
      },
      "source": [
        "def vowelsconsonents(l):\n",
        "    d1 = {'wordcount': 0, 'vowels': 0, 'consonents': 0, 'exclamation': 0}\n",
        "    l1 = ['a', 'e', 'i', 'o', 'u', 'A', 'E', 'I', 'O', 'U']\n",
        "\n",
        "    for x in l.split():\n",
        "        d1['wordcount'] += 1\n",
        "        for y in x:\n",
        "            if y.isalpha() == False:\n",
        "                d1['exclamation'] += 1\n",
        "            elif y in l1:\n",
        "                d1['vowels'] += 1\n",
        "            else:\n",
        "                d1['consonents'] += 1\n",
        "    return d1"
      ],
      "execution_count": 0,
      "outputs": []
    },
    {
      "cell_type": "code",
      "metadata": {
        "id": "Ni7w278zunFb",
        "colab_type": "code",
        "colab": {}
      },
      "source": [
        "def removepunc(l):\n",
        "    final = ''\n",
        "    for x in l.split():\n",
        "        for y in x:\n",
        "            if y.isalpha:\n",
        "                final += y\n",
        "        final += ' '\n",
        "    return final"
      ],
      "execution_count": 0,
      "outputs": []
    },
    {
      "cell_type": "code",
      "metadata": {
        "id": "ncIDCZFovIWW",
        "colab_type": "code",
        "colab": {}
      },
      "source": [
        "def beginbBendgG(l):\n",
        "    \n",
        "    l1 = re.findall(r'\\b[bB]\\w+', l)\n",
        "    n = re.findall(r'\\b\\w+[gG]\\b',l)\n",
        "    for x in n:\n",
        "        if x not in l1:\n",
        "            l1.append(x)\n",
        "    return l1"
      ],
      "execution_count": 0,
      "outputs": []
    },
    {
      "cell_type": "code",
      "metadata": {
        "id": "AOGyvi38_3y6",
        "colab_type": "code",
        "colab": {}
      },
      "source": [
        "def notbeginbBendgG(l):\n",
        "\n",
        "    l1 = []\n",
        "    match = re.findall(r'\\b[^\\WbB]\\w*', l)\n",
        "    match1 = re.findall(r'\\b\\w+[^\\WgG]\\b',l)\n",
        "    match = list(set(match))\n",
        "    for x in match:\n",
        "        if x in match1:\n",
        "            l1.append(x)\n",
        "    return l1"
      ],
      "execution_count": 0,
      "outputs": []
    },
    {
      "cell_type": "code",
      "metadata": {
        "id": "Imoepc3zlww4",
        "colab_type": "code",
        "colab": {}
      },
      "source": [
        "df['reviewText_wordcount']=df['reviewText'].apply(num_unique_words)\n",
        "df['summary_wordcount']=df['summary'].apply(num_unique_words)\n",
        "\n",
        "df['reviewText']=df['reviewText'].apply(removepunc)\n",
        "\n",
        "df['reviewText_temp']=df['reviewText'].apply(vowelsconsonents)\n",
        "\n",
        "df['reviewText_startbBendgG']=df['reviewText'].apply(beginbBendgG)\n",
        "df['reviewText_notstartbBendgG']=df['reviewText'].apply(notbeginbBendgG)\n"
      ],
      "execution_count": 0,
      "outputs": []
    },
    {
      "cell_type": "code",
      "metadata": {
        "id": "Ch8mgvqHnMpO",
        "colab_type": "code",
        "outputId": "1302ee2e-e1d9-4f7d-b1c7-e82a066385ca",
        "colab": {
          "base_uri": "https://localhost:8080/",
          "height": 564
        }
      },
      "source": [
        "df.head()"
      ],
      "execution_count": 29,
      "outputs": [
        {
          "output_type": "execute_result",
          "data": {
            "text/html": [
              "<div>\n",
              "<style scoped>\n",
              "    .dataframe tbody tr th:only-of-type {\n",
              "        vertical-align: middle;\n",
              "    }\n",
              "\n",
              "    .dataframe tbody tr th {\n",
              "        vertical-align: top;\n",
              "    }\n",
              "\n",
              "    .dataframe thead th {\n",
              "        text-align: right;\n",
              "    }\n",
              "</style>\n",
              "<table border=\"1\" class=\"dataframe\">\n",
              "  <thead>\n",
              "    <tr style=\"text-align: right;\">\n",
              "      <th></th>\n",
              "      <th>reviewerID</th>\n",
              "      <th>asin</th>\n",
              "      <th>reviewerName</th>\n",
              "      <th>helpful</th>\n",
              "      <th>reviewText</th>\n",
              "      <th>overall</th>\n",
              "      <th>summary</th>\n",
              "      <th>unixReviewTime</th>\n",
              "      <th>reviewTime</th>\n",
              "      <th>reviewText_wordcount</th>\n",
              "      <th>summary_wordcount</th>\n",
              "      <th>reviewText_temp</th>\n",
              "      <th>reviewText_startbBendgG</th>\n",
              "      <th>reviewText_notstartbBendgG</th>\n",
              "    </tr>\n",
              "  </thead>\n",
              "  <tbody>\n",
              "    <tr>\n",
              "      <th>0</th>\n",
              "      <td>A32T2H8150OJLU</td>\n",
              "      <td>B00000JBLH</td>\n",
              "      <td>ARH</td>\n",
              "      <td>[3, 4]</td>\n",
              "      <td>I bought my first HP12C in about 1984 or so, a...</td>\n",
              "      <td>5</td>\n",
              "      <td>A solid performer, and long time friend</td>\n",
              "      <td>1094169600</td>\n",
              "      <td>09 3, 2004</td>\n",
              "      <td>{'I': 7, 'bought': 1, 'my': 4, 'first': 1, 'HP...</td>\n",
              "      <td>{'A': 1, 'solid': 1, 'performer,': 1, 'and': 1...</td>\n",
              "      <td>{'wordcount': 186, 'vowels': 279, 'consonents'...</td>\n",
              "      <td>[bought, but, by, buy, but, be, but, best, be,...</td>\n",
              "      <td>[another, 1984, area, does, one, It, extremely...</td>\n",
              "    </tr>\n",
              "    <tr>\n",
              "      <th>1</th>\n",
              "      <td>A3MAFS04ZABRGO</td>\n",
              "      <td>B00000JBLH</td>\n",
              "      <td>Let it Be \"Alan\"</td>\n",
              "      <td>[7, 9]</td>\n",
              "      <td>WHY THIS BELATED REVIEW? I feel very obliged t...</td>\n",
              "      <td>5</td>\n",
              "      <td>Price of GOLD is up, so don't bury the golden ...</td>\n",
              "      <td>1197676800</td>\n",
              "      <td>12 15, 2007</td>\n",
              "      <td>{'WHY': 1, 'THIS': 2, 'BELATED': 1, 'REVIEW?':...</td>\n",
              "      <td>{'Price': 1, 'of': 1, 'GOLD': 1, 'is': 1, 'up,...</td>\n",
              "      <td>{'wordcount': 911, 'vowels': 1504, 'consonents...</td>\n",
              "      <td>[BELATED, burying, brandname, best, business, ...</td>\n",
              "      <td>[LISTEN, 2006, SOMEONE, OWN, STANDARD, does, L...</td>\n",
              "    </tr>\n",
              "    <tr>\n",
              "      <th>2</th>\n",
              "      <td>A1F1A0QQP2XVH5</td>\n",
              "      <td>B00000JBLH</td>\n",
              "      <td>Mark B</td>\n",
              "      <td>[3, 3]</td>\n",
              "      <td>I have an HP 48GX that has been kicking for mo...</td>\n",
              "      <td>2</td>\n",
              "      <td>Good functionality, but not durable like old HPs</td>\n",
              "      <td>1293840000</td>\n",
              "      <td>01 1, 2011</td>\n",
              "      <td>{'I': 2, 'have': 2, 'an': 2, 'HP': 3, '48GX': ...</td>\n",
              "      <td>{'Good': 1, 'functionality,': 1, 'but': 1, 'no...</td>\n",
              "      <td>{'wordcount': 96, 'vowels': 134, 'consonents':...</td>\n",
              "      <td>[been, But, kicking, giving, working]</td>\n",
              "      <td>[12C, years, hard, 11, overall, drops, 25, che...</td>\n",
              "    </tr>\n",
              "    <tr>\n",
              "      <th>3</th>\n",
              "      <td>A49R5DBXXQDE5</td>\n",
              "      <td>B00000JBLH</td>\n",
              "      <td>R. D Johnson</td>\n",
              "      <td>[7, 8]</td>\n",
              "      <td>I've started doing more finance stuff recently...</td>\n",
              "      <td>5</td>\n",
              "      <td>One of the last of an almost extinct species</td>\n",
              "      <td>1145404800</td>\n",
              "      <td>04 19, 2006</td>\n",
              "      <td>{'I've': 4, 'started': 1, 'doing': 2, 'more': ...</td>\n",
              "      <td>{'One': 1, 'of': 2, 'the': 1, 'last': 1, 'an':...</td>\n",
              "      <td>{'wordcount': 603, 'vowels': 1089, 'consonents...</td>\n",
              "      <td>[been, because, but, buy, Black, But, beats, b...</td>\n",
              "      <td>[operate, why, seems, whether, under, require,...</td>\n",
              "    </tr>\n",
              "    <tr>\n",
              "      <th>4</th>\n",
              "      <td>A2XRMQA6PJ5ZJ8</td>\n",
              "      <td>B00000JBLH</td>\n",
              "      <td>Roger J. Buffington</td>\n",
              "      <td>[0, 0]</td>\n",
              "      <td>For simple calculations and discounted cash fl...</td>\n",
              "      <td>5</td>\n",
              "      <td>Still the best</td>\n",
              "      <td>1375574400</td>\n",
              "      <td>08 4, 2013</td>\n",
              "      <td>{'For': 1, 'simple': 1, 'calculations': 2, 'an...</td>\n",
              "      <td>{'Still': 1, 'the': 1, 'best': 1}</td>\n",
              "      <td>{'wordcount': 120, 'vowels': 208, 'consonents'...</td>\n",
              "      <td>[best, business, but, be, brackets, practicing...</td>\n",
              "      <td>[CPA, another, hardware, expression, executive...</td>\n",
              "    </tr>\n",
              "  </tbody>\n",
              "</table>\n",
              "</div>"
            ],
            "text/plain": [
              "       reviewerID  ...                         reviewText_notstartbBendgG\n",
              "0  A32T2H8150OJLU  ...  [another, 1984, area, does, one, It, extremely...\n",
              "1  A3MAFS04ZABRGO  ...  [LISTEN, 2006, SOMEONE, OWN, STANDARD, does, L...\n",
              "2  A1F1A0QQP2XVH5  ...  [12C, years, hard, 11, overall, drops, 25, che...\n",
              "3   A49R5DBXXQDE5  ...  [operate, why, seems, whether, under, require,...\n",
              "4  A2XRMQA6PJ5ZJ8  ...  [CPA, another, hardware, expression, executive...\n",
              "\n",
              "[5 rows x 14 columns]"
            ]
          },
          "metadata": {
            "tags": []
          },
          "execution_count": 29
        }
      ]
    },
    {
      "cell_type": "code",
      "metadata": {
        "id": "ekkJXOhZo1PX",
        "colab_type": "code",
        "colab": {
          "base_uri": "https://localhost:8080/",
          "height": 54
        },
        "outputId": "c50da870-b600-4c54-afab-e58f41e65160"
      },
      "source": [
        "print(df.iloc[0, 13])"
      ],
      "execution_count": 30,
      "outputs": [
        {
          "output_type": "stream",
          "text": [
            "['another', '1984', 'area', 'does', 'one', 'It', 'extremely', 'lost', 'mistake', 'is', 'was', 'and', 'up', 'until', 'The', 'first', 'home', 'replace', 'my', 'difficult', 'purchased', 'well', 'use', 'applications', 'move', 'makes', 'on', 'hand', 'will', 'other', 'the', 'aside', 'faithfully', 'while', 'line', 'way', 'are', 'me', 'many', '12C', 'people', 'as', 'decided', '2002', 'So', 'flagship', 'didn', 'friend', 'calculator', 'may', 'that', 'view', 'in', 'searched', 'good', 'you', 'manual', 'HP', 'over', 'even', 'an', 'it', 'programmable', 'solid', 'at', 'too', 'order', 'statistics', 'come', 'know', 'powerful', 'What', 'disaster', 'for', 'short', 'need', 'so', 'what', 'decade', 'sense', 'ready', 'when', 'reliable', 'old', 'found', 'or', 'to', 'If', 'sketchy', 'counterintuitive', 'about', 'HP12C', 'of', 'served', 'now', 'set', 'have']\n"
          ],
          "name": "stdout"
        }
      ]
    }
  ]
}