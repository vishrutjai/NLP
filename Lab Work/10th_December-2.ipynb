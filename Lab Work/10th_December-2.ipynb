{
  "nbformat": 4,
  "nbformat_minor": 0,
  "metadata": {
    "colab": {
      "name": "10th December.ipynb",
      "provenance": []
    },
    "kernelspec": {
      "name": "python3",
      "display_name": "Python 3"
    }
  },
  "cells": [
    {
      "cell_type": "code",
      "metadata": {
        "id": "HKa1dufX5-Cl",
        "colab_type": "code",
        "colab": {
          "base_uri": "https://localhost:8080/",
          "height": 136
        },
        "outputId": "8953aa52-50ba-4f32-cf27-d251679476b6"
      },
      "source": [
        "import pandas as pd\n",
        "import re\n",
        "import nltk\n",
        "nltk.download('punkt')\n",
        "nltk.download('averaged_perceptron_tagger')"
      ],
      "execution_count": 53,
      "outputs": [
        {
          "output_type": "stream",
          "text": [
            "[nltk_data] Downloading package punkt to /root/nltk_data...\n",
            "[nltk_data]   Package punkt is already up-to-date!\n",
            "[nltk_data] Downloading package averaged_perceptron_tagger to\n",
            "[nltk_data]     /root/nltk_data...\n",
            "[nltk_data]   Package averaged_perceptron_tagger is already up-to-\n",
            "[nltk_data]       date!\n"
          ],
          "name": "stdout"
        },
        {
          "output_type": "execute_result",
          "data": {
            "text/plain": [
              "True"
            ]
          },
          "metadata": {
            "tags": []
          },
          "execution_count": 53
        }
      ]
    },
    {
      "cell_type": "code",
      "metadata": {
        "id": "h_i5kpAJ6EcS",
        "colab_type": "code",
        "colab": {
          "base_uri": "https://localhost:8080/",
          "height": 564
        },
        "outputId": "63e1996d-1a6f-4dfb-ece2-8a3e72fb0ec0"
      },
      "source": [
        "df = pd.read_json('http://snap.stanford.edu/data/amazon/productGraph/categoryFiles/reviews_Office_Products_5.json.gz', lines=True)    \n",
        "df.head()"
      ],
      "execution_count": 54,
      "outputs": [
        {
          "output_type": "execute_result",
          "data": {
            "text/html": [
              "<div>\n",
              "<style scoped>\n",
              "    .dataframe tbody tr th:only-of-type {\n",
              "        vertical-align: middle;\n",
              "    }\n",
              "\n",
              "    .dataframe tbody tr th {\n",
              "        vertical-align: top;\n",
              "    }\n",
              "\n",
              "    .dataframe thead th {\n",
              "        text-align: right;\n",
              "    }\n",
              "</style>\n",
              "<table border=\"1\" class=\"dataframe\">\n",
              "  <thead>\n",
              "    <tr style=\"text-align: right;\">\n",
              "      <th></th>\n",
              "      <th>reviewerID</th>\n",
              "      <th>asin</th>\n",
              "      <th>reviewerName</th>\n",
              "      <th>helpful</th>\n",
              "      <th>reviewText</th>\n",
              "      <th>overall</th>\n",
              "      <th>summary</th>\n",
              "      <th>unixReviewTime</th>\n",
              "      <th>reviewTime</th>\n",
              "    </tr>\n",
              "  </thead>\n",
              "  <tbody>\n",
              "    <tr>\n",
              "      <th>0</th>\n",
              "      <td>A32T2H8150OJLU</td>\n",
              "      <td>B00000JBLH</td>\n",
              "      <td>ARH</td>\n",
              "      <td>[3, 4]</td>\n",
              "      <td>I bought my first HP12C in about 1984 or so, a...</td>\n",
              "      <td>5</td>\n",
              "      <td>A solid performer, and long time friend</td>\n",
              "      <td>1094169600</td>\n",
              "      <td>09 3, 2004</td>\n",
              "    </tr>\n",
              "    <tr>\n",
              "      <th>1</th>\n",
              "      <td>A3MAFS04ZABRGO</td>\n",
              "      <td>B00000JBLH</td>\n",
              "      <td>Let it Be \"Alan\"</td>\n",
              "      <td>[7, 9]</td>\n",
              "      <td>WHY THIS BELATED REVIEW? I feel very obliged t...</td>\n",
              "      <td>5</td>\n",
              "      <td>Price of GOLD is up, so don't bury the golden ...</td>\n",
              "      <td>1197676800</td>\n",
              "      <td>12 15, 2007</td>\n",
              "    </tr>\n",
              "    <tr>\n",
              "      <th>2</th>\n",
              "      <td>A1F1A0QQP2XVH5</td>\n",
              "      <td>B00000JBLH</td>\n",
              "      <td>Mark B</td>\n",
              "      <td>[3, 3]</td>\n",
              "      <td>I have an HP 48GX that has been kicking for mo...</td>\n",
              "      <td>2</td>\n",
              "      <td>Good functionality, but not durable like old HPs</td>\n",
              "      <td>1293840000</td>\n",
              "      <td>01 1, 2011</td>\n",
              "    </tr>\n",
              "    <tr>\n",
              "      <th>3</th>\n",
              "      <td>A49R5DBXXQDE5</td>\n",
              "      <td>B00000JBLH</td>\n",
              "      <td>R. D Johnson</td>\n",
              "      <td>[7, 8]</td>\n",
              "      <td>I've started doing more finance stuff recently...</td>\n",
              "      <td>5</td>\n",
              "      <td>One of the last of an almost extinct species</td>\n",
              "      <td>1145404800</td>\n",
              "      <td>04 19, 2006</td>\n",
              "    </tr>\n",
              "    <tr>\n",
              "      <th>4</th>\n",
              "      <td>A2XRMQA6PJ5ZJ8</td>\n",
              "      <td>B00000JBLH</td>\n",
              "      <td>Roger J. Buffington</td>\n",
              "      <td>[0, 0]</td>\n",
              "      <td>For simple calculations and discounted cash fl...</td>\n",
              "      <td>5</td>\n",
              "      <td>Still the best</td>\n",
              "      <td>1375574400</td>\n",
              "      <td>08 4, 2013</td>\n",
              "    </tr>\n",
              "  </tbody>\n",
              "</table>\n",
              "</div>"
            ],
            "text/plain": [
              "       reviewerID        asin  ... unixReviewTime   reviewTime\n",
              "0  A32T2H8150OJLU  B00000JBLH  ...     1094169600   09 3, 2004\n",
              "1  A3MAFS04ZABRGO  B00000JBLH  ...     1197676800  12 15, 2007\n",
              "2  A1F1A0QQP2XVH5  B00000JBLH  ...     1293840000   01 1, 2011\n",
              "3   A49R5DBXXQDE5  B00000JBLH  ...     1145404800  04 19, 2006\n",
              "4  A2XRMQA6PJ5ZJ8  B00000JBLH  ...     1375574400   08 4, 2013\n",
              "\n",
              "[5 rows x 9 columns]"
            ]
          },
          "metadata": {
            "tags": []
          },
          "execution_count": 54
        }
      ]
    },
    {
      "cell_type": "code",
      "metadata": {
        "id": "nGqxKTAqwWon",
        "colab_type": "code",
        "colab": {}
      },
      "source": [
        "def removepunc(l):\n",
        "    final = ''\n",
        "    for x in l.split():\n",
        "        for y in x:\n",
        "            if y.isalpha():\n",
        "                final += y\n",
        "        final += ' '\n",
        "    return final\n",
        "\n",
        "df['reviewText']=df['reviewText'].apply(removepunc)"
      ],
      "execution_count": 0,
      "outputs": []
    },
    {
      "cell_type": "code",
      "metadata": {
        "id": "N7NM0RvI6N9N",
        "colab_type": "code",
        "colab": {}
      },
      "source": [
        "from nltk.tokenize import MWETokenizer \n",
        "from nltk import word_tokenize\n",
        "\n",
        "def mwe(str):\n",
        "    d = {}\n",
        "    tk = MWETokenizer() \n",
        "    d['MWETokenizer'] = tk.tokenize(str.split())\n",
        "    d['word_tokenize'] = word_tokenize(str)\n",
        "    temp = nltk.pos_tag(str.split())\n",
        "    d['pos_tag'] = temp\n",
        "\n",
        "    adj = []\n",
        "    for x in temp:\n",
        "        if x[1] == 'JJ':\n",
        "            adj.append(x[0])\n",
        "    d['adjective'] = adj\n",
        "\n",
        "    return d\n",
        "\n",
        "#print(mwe('geeks for geeks g f g'))\n",
        "df['nltk']=df['reviewText'].apply(mwe)\n",
        "#df.head()"
      ],
      "execution_count": 0,
      "outputs": []
    },
    {
      "cell_type": "code",
      "metadata": {
        "id": "ZLb59Na45I9m",
        "colab_type": "code",
        "colab": {
          "base_uri": "https://localhost:8080/",
          "height": 564
        },
        "outputId": "7790ec9c-adb1-498d-c95c-2c60e49db666"
      },
      "source": [
        "def goodbadadjectives(d1):\n",
        "    file = open('bad words.txt')\n",
        "    d = {}\n",
        "    l = file.readlines()\n",
        "    for x in range(len(l)):\n",
        "        l[x] = l[x][:-1]\n",
        "    l_adj = d1['adjective']\n",
        "    negative = 0\n",
        "    positive = 0\n",
        "    l_negative = []\n",
        "    l_positive = []\n",
        "    for x in l_adj:\n",
        "        if x in l:\n",
        "            negative += 1\n",
        "            l_negative.append(x)\n",
        "        else:\n",
        "            positive += 1\n",
        "            l_positive.append(x)\n",
        "    d['Total Adjectives'] = positive + negative\n",
        "    d['Number of Negative Adjectives'] = negative\n",
        "    d['Number of Positive Adjectives'] = positive\n",
        "    d['Negative Adjectives'] = l_negative\n",
        "    d['Positive Adjectives'] = l_positive\n",
        "    if positive + negative == 0:\n",
        "        d['Sentiment Score'] = 0\n",
        "    else:\n",
        "        d['Sentiment Score'] = (positive - negative)/(positive + negative)\n",
        "\n",
        "    return d\n",
        "\n",
        "\n",
        "df['adjectives']=df['nltk'].apply(goodbadadjectives)\n",
        "\n",
        "df.head()"
      ],
      "execution_count": 57,
      "outputs": [
        {
          "output_type": "execute_result",
          "data": {
            "text/html": [
              "<div>\n",
              "<style scoped>\n",
              "    .dataframe tbody tr th:only-of-type {\n",
              "        vertical-align: middle;\n",
              "    }\n",
              "\n",
              "    .dataframe tbody tr th {\n",
              "        vertical-align: top;\n",
              "    }\n",
              "\n",
              "    .dataframe thead th {\n",
              "        text-align: right;\n",
              "    }\n",
              "</style>\n",
              "<table border=\"1\" class=\"dataframe\">\n",
              "  <thead>\n",
              "    <tr style=\"text-align: right;\">\n",
              "      <th></th>\n",
              "      <th>reviewerID</th>\n",
              "      <th>asin</th>\n",
              "      <th>reviewerName</th>\n",
              "      <th>helpful</th>\n",
              "      <th>reviewText</th>\n",
              "      <th>overall</th>\n",
              "      <th>summary</th>\n",
              "      <th>unixReviewTime</th>\n",
              "      <th>reviewTime</th>\n",
              "      <th>nltk</th>\n",
              "      <th>adjectives</th>\n",
              "    </tr>\n",
              "  </thead>\n",
              "  <tbody>\n",
              "    <tr>\n",
              "      <th>0</th>\n",
              "      <td>A32T2H8150OJLU</td>\n",
              "      <td>B00000JBLH</td>\n",
              "      <td>ARH</td>\n",
              "      <td>[3, 4]</td>\n",
              "      <td>I bought my first HPC in about  or so and it s...</td>\n",
              "      <td>5</td>\n",
              "      <td>A solid performer, and long time friend</td>\n",
              "      <td>1094169600</td>\n",
              "      <td>09 3, 2004</td>\n",
              "      <td>{'MWETokenizer': ['I', 'bought', 'my', 'first'...</td>\n",
              "      <td>{'Total Adjectives': 17, 'Number of Negative A...</td>\n",
              "    </tr>\n",
              "    <tr>\n",
              "      <th>1</th>\n",
              "      <td>A3MAFS04ZABRGO</td>\n",
              "      <td>B00000JBLH</td>\n",
              "      <td>Let it Be \"Alan\"</td>\n",
              "      <td>[7, 9]</td>\n",
              "      <td>WHY THIS BELATED REVIEW I feel very obliged to...</td>\n",
              "      <td>5</td>\n",
              "      <td>Price of GOLD is up, so don't bury the golden ...</td>\n",
              "      <td>1197676800</td>\n",
              "      <td>12 15, 2007</td>\n",
              "      <td>{'MWETokenizer': ['WHY', 'THIS', 'BELATED', 'R...</td>\n",
              "      <td>{'Total Adjectives': 58, 'Number of Negative A...</td>\n",
              "    </tr>\n",
              "    <tr>\n",
              "      <th>2</th>\n",
              "      <td>A1F1A0QQP2XVH5</td>\n",
              "      <td>B00000JBLH</td>\n",
              "      <td>Mark B</td>\n",
              "      <td>[3, 3]</td>\n",
              "      <td>I have an HP GX that has been kicking for more...</td>\n",
              "      <td>2</td>\n",
              "      <td>Good functionality, but not durable like old HPs</td>\n",
              "      <td>1293840000</td>\n",
              "      <td>01 1, 2011</td>\n",
              "      <td>{'MWETokenizer': ['I', 'have', 'an', 'HP', 'GX...</td>\n",
              "      <td>{'Total Adjectives': 8, 'Number of Negative Ad...</td>\n",
              "    </tr>\n",
              "    <tr>\n",
              "      <th>3</th>\n",
              "      <td>A49R5DBXXQDE5</td>\n",
              "      <td>B00000JBLH</td>\n",
              "      <td>R. D Johnson</td>\n",
              "      <td>[7, 8]</td>\n",
              "      <td>Ive started doing more finance stuff recently ...</td>\n",
              "      <td>5</td>\n",
              "      <td>One of the last of an almost extinct species</td>\n",
              "      <td>1145404800</td>\n",
              "      <td>04 19, 2006</td>\n",
              "      <td>{'MWETokenizer': ['Ive', 'started', 'doing', '...</td>\n",
              "      <td>{'Total Adjectives': 43, 'Number of Negative A...</td>\n",
              "    </tr>\n",
              "    <tr>\n",
              "      <th>4</th>\n",
              "      <td>A2XRMQA6PJ5ZJ8</td>\n",
              "      <td>B00000JBLH</td>\n",
              "      <td>Roger J. Buffington</td>\n",
              "      <td>[0, 0]</td>\n",
              "      <td>For simple calculations and discounted cash fl...</td>\n",
              "      <td>5</td>\n",
              "      <td>Still the best</td>\n",
              "      <td>1375574400</td>\n",
              "      <td>08 4, 2013</td>\n",
              "      <td>{'MWETokenizer': ['For', 'simple', 'calculatio...</td>\n",
              "      <td>{'Total Adjectives': 11, 'Number of Negative A...</td>\n",
              "    </tr>\n",
              "  </tbody>\n",
              "</table>\n",
              "</div>"
            ],
            "text/plain": [
              "       reviewerID  ...                                         adjectives\n",
              "0  A32T2H8150OJLU  ...  {'Total Adjectives': 17, 'Number of Negative A...\n",
              "1  A3MAFS04ZABRGO  ...  {'Total Adjectives': 58, 'Number of Negative A...\n",
              "2  A1F1A0QQP2XVH5  ...  {'Total Adjectives': 8, 'Number of Negative Ad...\n",
              "3   A49R5DBXXQDE5  ...  {'Total Adjectives': 43, 'Number of Negative A...\n",
              "4  A2XRMQA6PJ5ZJ8  ...  {'Total Adjectives': 11, 'Number of Negative A...\n",
              "\n",
              "[5 rows x 11 columns]"
            ]
          },
          "metadata": {
            "tags": []
          },
          "execution_count": 57
        }
      ]
    },
    {
      "cell_type": "code",
      "metadata": {
        "id": "jbZAHWepADEz",
        "colab_type": "code",
        "colab": {
          "base_uri": "https://localhost:8080/",
          "height": 71
        },
        "outputId": "98800177-ca0e-40c3-81de-9b6f42778984"
      },
      "source": [
        "print(df.iloc[0, 9]['adjective'])\n",
        "print(df.iloc[0, 10])"
      ],
      "execution_count": 58,
      "outputs": [
        {
          "output_type": "stream",
          "text": [
            "['first', 'difficult', 'many', 'disasterThe', 'powerful', 'other', 'good', 'solid', 'reliable', 'programmable', 'basic', 'many', 'manual', 'short', 'ready', 'old', 'useHP']\n",
            "{'Total Adjectives': 17, 'Number of Negative Adjectives': 1, 'Number of Positive Adjectives': 16, 'Negative Adjectives': ['difficult'], 'Positive Adjectives': ['first', 'many', 'disasterThe', 'powerful', 'other', 'good', 'solid', 'reliable', 'programmable', 'basic', 'many', 'manual', 'short', 'ready', 'old', 'useHP'], 'Sentiment Score': 0.8823529411764706}\n"
          ],
          "name": "stdout"
        }
      ]
    }
  ]
}